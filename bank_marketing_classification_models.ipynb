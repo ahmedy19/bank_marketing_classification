{
 "cells": [
  {
   "cell_type": "code",
   "execution_count": 32,
   "metadata": {},
   "outputs": [],
   "source": [
    "# Import required packages \n",
    "import numpy as np\n",
    "import pandas as pd\n",
    "import matplotlib.pyplot as plt\n",
    "import seaborn as sns\n",
    "import plotly.express as px\n",
    "import plotly.graph_objects as go\n",
    "import missingno as msno\n",
    "from tabulate import tabulate\n",
    "from scipy import stats\n",
    "from sklearn.preprocessing import LabelEncoder\n",
    "from imblearn.over_sampling import SMOTE \n",
    "\n",
    "\n",
    "from sklearn.preprocessing import StandardScaler\n",
    "from sklearn.linear_model import LogisticRegression # logistic regression\n",
    "from sklearn.ensemble import RandomForestClassifier # Random Forest\n",
    "from sklearn.neighbors import KNeighborsClassifier # KNN\n",
    "from sklearn.tree import DecisionTreeClassifier # Decision Tree\n",
    "from sklearn.model_selection import train_test_split # training and testing data split\n",
    "from sklearn.metrics import precision_recall_curve, average_precision_score, roc_curve, auc\n",
    "from sklearn.metrics import roc_auc_score, accuracy_score, precision_score, recall_score, f1_score, log_loss, r2_score, mean_absolute_error, mean_squared_error, confusion_matrix\n",
    "\n",
    "sns.set_theme(style=\"whitegrid\")\n",
    "\n",
    "import warnings\n",
    "warnings.filterwarnings('ignore')\n",
    "%matplotlib inline\n"
   ]
  },
  {
   "cell_type": "code",
   "execution_count": 2,
   "metadata": {},
   "outputs": [],
   "source": [
    "# Load datasets\n",
    "\n",
    "path = r'datasets_case_3/2_dataset_after_resampling.csv'\n",
    "df = pd.read_csv(path, low_memory=False)\n"
   ]
  },
  {
   "cell_type": "code",
   "execution_count": 3,
   "metadata": {},
   "outputs": [
    {
     "data": {
      "text/html": [
       "<div>\n",
       "<style scoped>\n",
       "    .dataframe tbody tr th:only-of-type {\n",
       "        vertical-align: middle;\n",
       "    }\n",
       "\n",
       "    .dataframe tbody tr th {\n",
       "        vertical-align: top;\n",
       "    }\n",
       "\n",
       "    .dataframe thead th {\n",
       "        text-align: right;\n",
       "    }\n",
       "</style>\n",
       "<table border=\"1\" class=\"dataframe\">\n",
       "  <thead>\n",
       "    <tr style=\"text-align: right;\">\n",
       "      <th></th>\n",
       "      <th>age</th>\n",
       "      <th>job</th>\n",
       "      <th>marital</th>\n",
       "      <th>education</th>\n",
       "      <th>default</th>\n",
       "      <th>housing</th>\n",
       "      <th>loan</th>\n",
       "      <th>contact_type</th>\n",
       "      <th>month</th>\n",
       "      <th>day_of_week</th>\n",
       "      <th>...</th>\n",
       "      <th>previous_outcome</th>\n",
       "      <th>employment_variation_rate</th>\n",
       "      <th>consumer_price_index</th>\n",
       "      <th>consumer_confidence_index</th>\n",
       "      <th>euribor3m</th>\n",
       "      <th>number_of_employees</th>\n",
       "      <th>y</th>\n",
       "      <th>has_term_deposit</th>\n",
       "      <th>age_band</th>\n",
       "      <th>new_passed_days</th>\n",
       "    </tr>\n",
       "  </thead>\n",
       "  <tbody>\n",
       "    <tr>\n",
       "      <th>0</th>\n",
       "      <td>56</td>\n",
       "      <td>3</td>\n",
       "      <td>1</td>\n",
       "      <td>2</td>\n",
       "      <td>0</td>\n",
       "      <td>0</td>\n",
       "      <td>0</td>\n",
       "      <td>1</td>\n",
       "      <td>6</td>\n",
       "      <td>1</td>\n",
       "      <td>...</td>\n",
       "      <td>1</td>\n",
       "      <td>1.1</td>\n",
       "      <td>93.994</td>\n",
       "      <td>-36.4</td>\n",
       "      <td>4.857</td>\n",
       "      <td>5191.0</td>\n",
       "      <td>0</td>\n",
       "      <td>0</td>\n",
       "      <td>4</td>\n",
       "      <td>0</td>\n",
       "    </tr>\n",
       "    <tr>\n",
       "      <th>1</th>\n",
       "      <td>57</td>\n",
       "      <td>8</td>\n",
       "      <td>1</td>\n",
       "      <td>0</td>\n",
       "      <td>1</td>\n",
       "      <td>0</td>\n",
       "      <td>0</td>\n",
       "      <td>1</td>\n",
       "      <td>6</td>\n",
       "      <td>1</td>\n",
       "      <td>...</td>\n",
       "      <td>1</td>\n",
       "      <td>1.1</td>\n",
       "      <td>93.994</td>\n",
       "      <td>-36.4</td>\n",
       "      <td>4.857</td>\n",
       "      <td>5191.0</td>\n",
       "      <td>0</td>\n",
       "      <td>0</td>\n",
       "      <td>4</td>\n",
       "      <td>0</td>\n",
       "    </tr>\n",
       "    <tr>\n",
       "      <th>2</th>\n",
       "      <td>37</td>\n",
       "      <td>8</td>\n",
       "      <td>1</td>\n",
       "      <td>0</td>\n",
       "      <td>0</td>\n",
       "      <td>2</td>\n",
       "      <td>0</td>\n",
       "      <td>1</td>\n",
       "      <td>6</td>\n",
       "      <td>1</td>\n",
       "      <td>...</td>\n",
       "      <td>1</td>\n",
       "      <td>1.1</td>\n",
       "      <td>93.994</td>\n",
       "      <td>-36.4</td>\n",
       "      <td>4.857</td>\n",
       "      <td>5191.0</td>\n",
       "      <td>0</td>\n",
       "      <td>0</td>\n",
       "      <td>2</td>\n",
       "      <td>0</td>\n",
       "    </tr>\n",
       "    <tr>\n",
       "      <th>3</th>\n",
       "      <td>40</td>\n",
       "      <td>0</td>\n",
       "      <td>1</td>\n",
       "      <td>4</td>\n",
       "      <td>0</td>\n",
       "      <td>0</td>\n",
       "      <td>0</td>\n",
       "      <td>1</td>\n",
       "      <td>6</td>\n",
       "      <td>1</td>\n",
       "      <td>...</td>\n",
       "      <td>1</td>\n",
       "      <td>1.1</td>\n",
       "      <td>93.994</td>\n",
       "      <td>-36.4</td>\n",
       "      <td>4.857</td>\n",
       "      <td>5191.0</td>\n",
       "      <td>0</td>\n",
       "      <td>0</td>\n",
       "      <td>2</td>\n",
       "      <td>0</td>\n",
       "    </tr>\n",
       "    <tr>\n",
       "      <th>4</th>\n",
       "      <td>56</td>\n",
       "      <td>8</td>\n",
       "      <td>1</td>\n",
       "      <td>0</td>\n",
       "      <td>0</td>\n",
       "      <td>0</td>\n",
       "      <td>2</td>\n",
       "      <td>1</td>\n",
       "      <td>6</td>\n",
       "      <td>1</td>\n",
       "      <td>...</td>\n",
       "      <td>1</td>\n",
       "      <td>1.1</td>\n",
       "      <td>93.994</td>\n",
       "      <td>-36.4</td>\n",
       "      <td>4.857</td>\n",
       "      <td>5191.0</td>\n",
       "      <td>0</td>\n",
       "      <td>0</td>\n",
       "      <td>4</td>\n",
       "      <td>0</td>\n",
       "    </tr>\n",
       "  </tbody>\n",
       "</table>\n",
       "<p>5 rows × 24 columns</p>\n",
       "</div>"
      ],
      "text/plain": [
       "   age  job  marital  education  default  housing  loan  contact_type  month  \\\n",
       "0   56    3        1          2        0        0     0             1      6   \n",
       "1   57    8        1          0        1        0     0             1      6   \n",
       "2   37    8        1          0        0        2     0             1      6   \n",
       "3   40    0        1          4        0        0     0             1      6   \n",
       "4   56    8        1          0        0        0     2             1      6   \n",
       "\n",
       "   day_of_week  ...  previous_outcome  employment_variation_rate  \\\n",
       "0            1  ...                 1                        1.1   \n",
       "1            1  ...                 1                        1.1   \n",
       "2            1  ...                 1                        1.1   \n",
       "3            1  ...                 1                        1.1   \n",
       "4            1  ...                 1                        1.1   \n",
       "\n",
       "   consumer_price_index  consumer_confidence_index  euribor3m  \\\n",
       "0                93.994                      -36.4      4.857   \n",
       "1                93.994                      -36.4      4.857   \n",
       "2                93.994                      -36.4      4.857   \n",
       "3                93.994                      -36.4      4.857   \n",
       "4                93.994                      -36.4      4.857   \n",
       "\n",
       "   number_of_employees  y  has_term_deposit  age_band  new_passed_days  \n",
       "0               5191.0  0                 0         4                0  \n",
       "1               5191.0  0                 0         4                0  \n",
       "2               5191.0  0                 0         2                0  \n",
       "3               5191.0  0                 0         2                0  \n",
       "4               5191.0  0                 0         4                0  \n",
       "\n",
       "[5 rows x 24 columns]"
      ]
     },
     "execution_count": 3,
     "metadata": {},
     "output_type": "execute_result"
    }
   ],
   "source": [
    "df.head()"
   ]
  },
  {
   "cell_type": "code",
   "execution_count": 4,
   "metadata": {},
   "outputs": [
    {
     "data": {
      "text/plain": [
       "age                          0\n",
       "job                          0\n",
       "marital                      0\n",
       "education                    0\n",
       "default                      0\n",
       "housing                      0\n",
       "loan                         0\n",
       "contact_type                 0\n",
       "month                        0\n",
       "day_of_week                  0\n",
       "last_contact_duration        0\n",
       "campaign                     0\n",
       "passed_days                  0\n",
       "previous                     0\n",
       "previous_outcome             0\n",
       "employment_variation_rate    0\n",
       "consumer_price_index         0\n",
       "consumer_confidence_index    0\n",
       "euribor3m                    0\n",
       "number_of_employees          0\n",
       "y                            0\n",
       "has_term_deposit             0\n",
       "age_band                     0\n",
       "new_passed_days              0\n",
       "dtype: int64"
      ]
     },
     "execution_count": 4,
     "metadata": {},
     "output_type": "execute_result"
    }
   ],
   "source": [
    "df.isnull().sum()"
   ]
  },
  {
   "cell_type": "code",
   "execution_count": 5,
   "metadata": {},
   "outputs": [
    {
     "data": {
      "text/plain": [
       "Index(['age', 'job', 'marital', 'education', 'default', 'housing', 'loan',\n",
       "       'contact_type', 'month', 'day_of_week', 'last_contact_duration',\n",
       "       'campaign', 'passed_days', 'previous', 'previous_outcome',\n",
       "       'employment_variation_rate', 'consumer_price_index',\n",
       "       'consumer_confidence_index', 'euribor3m', 'number_of_employees', 'y',\n",
       "       'has_term_deposit', 'age_band', 'new_passed_days'],\n",
       "      dtype='object')"
      ]
     },
     "execution_count": 5,
     "metadata": {},
     "output_type": "execute_result"
    }
   ],
   "source": [
    "df.columns"
   ]
  },
  {
   "cell_type": "code",
   "execution_count": 7,
   "metadata": {},
   "outputs": [
    {
     "name": "stdout",
     "output_type": "stream",
     "text": [
      "<class 'pandas.core.frame.DataFrame'>\n",
      "RangeIndex: 41176 entries, 0 to 41175\n",
      "Data columns (total 24 columns):\n",
      " #   Column                     Non-Null Count  Dtype  \n",
      "---  ------                     --------------  -----  \n",
      " 0   age                        41176 non-null  int64  \n",
      " 1   job                        41176 non-null  int64  \n",
      " 2   marital                    41176 non-null  int64  \n",
      " 3   education                  41176 non-null  int64  \n",
      " 4   default                    41176 non-null  int64  \n",
      " 5   housing                    41176 non-null  int64  \n",
      " 6   loan                       41176 non-null  int64  \n",
      " 7   contact_type               41176 non-null  int64  \n",
      " 8   month                      41176 non-null  int64  \n",
      " 9   day_of_week                41176 non-null  int64  \n",
      " 10  last_contact_duration      41176 non-null  int64  \n",
      " 11  campaign                   41176 non-null  int64  \n",
      " 12  passed_days                41176 non-null  int64  \n",
      " 13  previous                   41176 non-null  int64  \n",
      " 14  previous_outcome           41176 non-null  int64  \n",
      " 15  employment_variation_rate  41176 non-null  float64\n",
      " 16  consumer_price_index       41176 non-null  float64\n",
      " 17  consumer_confidence_index  41176 non-null  float64\n",
      " 18  euribor3m                  41176 non-null  float64\n",
      " 19  number_of_employees        41176 non-null  float64\n",
      " 20  y                          41176 non-null  int64  \n",
      " 21  has_term_deposit           41176 non-null  int64  \n",
      " 22  age_band                   41176 non-null  int64  \n",
      " 23  new_passed_days            41176 non-null  int64  \n",
      "dtypes: float64(5), int64(19)\n",
      "memory usage: 7.5 MB\n"
     ]
    }
   ],
   "source": [
    "df.info()"
   ]
  },
  {
   "cell_type": "code",
   "execution_count": 9,
   "metadata": {},
   "outputs": [
    {
     "data": {
      "text/plain": [
       "1"
      ]
     },
     "execution_count": 9,
     "metadata": {},
     "output_type": "execute_result"
    }
   ],
   "source": [
    "df.duplicated().sum()\n"
   ]
  },
  {
   "cell_type": "code",
   "execution_count": 10,
   "metadata": {},
   "outputs": [
    {
     "data": {
      "text/html": [
       "<div>\n",
       "<style scoped>\n",
       "    .dataframe tbody tr th:only-of-type {\n",
       "        vertical-align: middle;\n",
       "    }\n",
       "\n",
       "    .dataframe tbody tr th {\n",
       "        vertical-align: top;\n",
       "    }\n",
       "\n",
       "    .dataframe thead th {\n",
       "        text-align: right;\n",
       "    }\n",
       "</style>\n",
       "<table border=\"1\" class=\"dataframe\">\n",
       "  <thead>\n",
       "    <tr style=\"text-align: right;\">\n",
       "      <th></th>\n",
       "      <th>count</th>\n",
       "      <th>mean</th>\n",
       "      <th>std</th>\n",
       "      <th>min</th>\n",
       "      <th>25%</th>\n",
       "      <th>50%</th>\n",
       "      <th>75%</th>\n",
       "      <th>max</th>\n",
       "    </tr>\n",
       "  </thead>\n",
       "  <tbody>\n",
       "    <tr>\n",
       "      <th>age</th>\n",
       "      <td>41176.0</td>\n",
       "      <td>39.659413</td>\n",
       "      <td>9.739905</td>\n",
       "      <td>17.000</td>\n",
       "      <td>32.000</td>\n",
       "      <td>38.000</td>\n",
       "      <td>47.000</td>\n",
       "      <td>71.000</td>\n",
       "    </tr>\n",
       "    <tr>\n",
       "      <th>job</th>\n",
       "      <td>41176.0</td>\n",
       "      <td>4.058214</td>\n",
       "      <td>3.986478</td>\n",
       "      <td>0.000</td>\n",
       "      <td>0.000</td>\n",
       "      <td>2.000</td>\n",
       "      <td>8.000</td>\n",
       "      <td>11.000</td>\n",
       "    </tr>\n",
       "    <tr>\n",
       "      <th>marital</th>\n",
       "      <td>41176.0</td>\n",
       "      <td>1.451647</td>\n",
       "      <td>1.016533</td>\n",
       "      <td>0.000</td>\n",
       "      <td>1.000</td>\n",
       "      <td>1.000</td>\n",
       "      <td>3.000</td>\n",
       "      <td>3.000</td>\n",
       "    </tr>\n",
       "    <tr>\n",
       "      <th>education</th>\n",
       "      <td>41176.0</td>\n",
       "      <td>4.136924</td>\n",
       "      <td>2.739054</td>\n",
       "      <td>0.000</td>\n",
       "      <td>2.000</td>\n",
       "      <td>5.000</td>\n",
       "      <td>7.000</td>\n",
       "      <td>7.000</td>\n",
       "    </tr>\n",
       "    <tr>\n",
       "      <th>default</th>\n",
       "      <td>41176.0</td>\n",
       "      <td>0.208908</td>\n",
       "      <td>0.406713</td>\n",
       "      <td>0.000</td>\n",
       "      <td>0.000</td>\n",
       "      <td>0.000</td>\n",
       "      <td>0.000</td>\n",
       "      <td>2.000</td>\n",
       "    </tr>\n",
       "    <tr>\n",
       "      <th>housing</th>\n",
       "      <td>41176.0</td>\n",
       "      <td>1.071789</td>\n",
       "      <td>0.985305</td>\n",
       "      <td>0.000</td>\n",
       "      <td>0.000</td>\n",
       "      <td>2.000</td>\n",
       "      <td>2.000</td>\n",
       "      <td>2.000</td>\n",
       "    </tr>\n",
       "    <tr>\n",
       "      <th>loan</th>\n",
       "      <td>41176.0</td>\n",
       "      <td>0.327521</td>\n",
       "      <td>0.723700</td>\n",
       "      <td>0.000</td>\n",
       "      <td>0.000</td>\n",
       "      <td>0.000</td>\n",
       "      <td>0.000</td>\n",
       "      <td>2.000</td>\n",
       "    </tr>\n",
       "    <tr>\n",
       "      <th>contact_type</th>\n",
       "      <td>41176.0</td>\n",
       "      <td>0.365286</td>\n",
       "      <td>0.481516</td>\n",
       "      <td>0.000</td>\n",
       "      <td>0.000</td>\n",
       "      <td>0.000</td>\n",
       "      <td>1.000</td>\n",
       "      <td>1.000</td>\n",
       "    </tr>\n",
       "    <tr>\n",
       "      <th>month</th>\n",
       "      <td>41176.0</td>\n",
       "      <td>4.231033</td>\n",
       "      <td>2.319973</td>\n",
       "      <td>0.000</td>\n",
       "      <td>3.000</td>\n",
       "      <td>4.000</td>\n",
       "      <td>6.000</td>\n",
       "      <td>9.000</td>\n",
       "    </tr>\n",
       "    <tr>\n",
       "      <th>day_of_week</th>\n",
       "      <td>41176.0</td>\n",
       "      <td>2.004614</td>\n",
       "      <td>1.397692</td>\n",
       "      <td>0.000</td>\n",
       "      <td>1.000</td>\n",
       "      <td>2.000</td>\n",
       "      <td>3.000</td>\n",
       "      <td>4.000</td>\n",
       "    </tr>\n",
       "    <tr>\n",
       "      <th>last_contact_duration</th>\n",
       "      <td>41176.0</td>\n",
       "      <td>233.001020</td>\n",
       "      <td>189.904579</td>\n",
       "      <td>0.000</td>\n",
       "      <td>102.000</td>\n",
       "      <td>180.000</td>\n",
       "      <td>301.000</td>\n",
       "      <td>1036.000</td>\n",
       "    </tr>\n",
       "    <tr>\n",
       "      <th>campaign</th>\n",
       "      <td>41176.0</td>\n",
       "      <td>2.268239</td>\n",
       "      <td>1.700447</td>\n",
       "      <td>1.000</td>\n",
       "      <td>1.000</td>\n",
       "      <td>2.000</td>\n",
       "      <td>3.000</td>\n",
       "      <td>10.000</td>\n",
       "    </tr>\n",
       "    <tr>\n",
       "      <th>passed_days</th>\n",
       "      <td>41176.0</td>\n",
       "      <td>-0.951282</td>\n",
       "      <td>0.429464</td>\n",
       "      <td>-1.000</td>\n",
       "      <td>-1.000</td>\n",
       "      <td>-1.000</td>\n",
       "      <td>-1.000</td>\n",
       "      <td>3.000</td>\n",
       "    </tr>\n",
       "    <tr>\n",
       "      <th>previous</th>\n",
       "      <td>41176.0</td>\n",
       "      <td>0.110768</td>\n",
       "      <td>0.313849</td>\n",
       "      <td>0.000</td>\n",
       "      <td>0.000</td>\n",
       "      <td>0.000</td>\n",
       "      <td>0.000</td>\n",
       "      <td>1.000</td>\n",
       "    </tr>\n",
       "    <tr>\n",
       "      <th>previous_outcome</th>\n",
       "      <td>41176.0</td>\n",
       "      <td>0.930081</td>\n",
       "      <td>0.362937</td>\n",
       "      <td>0.000</td>\n",
       "      <td>1.000</td>\n",
       "      <td>1.000</td>\n",
       "      <td>1.000</td>\n",
       "      <td>2.000</td>\n",
       "    </tr>\n",
       "    <tr>\n",
       "      <th>employment_variation_rate</th>\n",
       "      <td>41176.0</td>\n",
       "      <td>0.081922</td>\n",
       "      <td>1.570883</td>\n",
       "      <td>-3.400</td>\n",
       "      <td>-1.800</td>\n",
       "      <td>1.100</td>\n",
       "      <td>1.400</td>\n",
       "      <td>1.400</td>\n",
       "    </tr>\n",
       "    <tr>\n",
       "      <th>consumer_price_index</th>\n",
       "      <td>41176.0</td>\n",
       "      <td>93.575720</td>\n",
       "      <td>0.578839</td>\n",
       "      <td>92.201</td>\n",
       "      <td>93.075</td>\n",
       "      <td>93.749</td>\n",
       "      <td>93.994</td>\n",
       "      <td>94.767</td>\n",
       "    </tr>\n",
       "    <tr>\n",
       "      <th>consumer_confidence_index</th>\n",
       "      <td>41176.0</td>\n",
       "      <td>-40.502863</td>\n",
       "      <td>4.627860</td>\n",
       "      <td>-50.800</td>\n",
       "      <td>-42.700</td>\n",
       "      <td>-41.800</td>\n",
       "      <td>-36.400</td>\n",
       "      <td>-26.900</td>\n",
       "    </tr>\n",
       "    <tr>\n",
       "      <th>euribor3m</th>\n",
       "      <td>41176.0</td>\n",
       "      <td>3.621293</td>\n",
       "      <td>1.734437</td>\n",
       "      <td>0.634</td>\n",
       "      <td>1.344</td>\n",
       "      <td>4.857</td>\n",
       "      <td>4.961</td>\n",
       "      <td>5.045</td>\n",
       "    </tr>\n",
       "    <tr>\n",
       "      <th>number_of_employees</th>\n",
       "      <td>41176.0</td>\n",
       "      <td>5167.034870</td>\n",
       "      <td>72.251364</td>\n",
       "      <td>4963.600</td>\n",
       "      <td>5099.100</td>\n",
       "      <td>5191.000</td>\n",
       "      <td>5228.100</td>\n",
       "      <td>5228.100</td>\n",
       "    </tr>\n",
       "    <tr>\n",
       "      <th>y</th>\n",
       "      <td>41176.0</td>\n",
       "      <td>0.112663</td>\n",
       "      <td>0.316184</td>\n",
       "      <td>0.000</td>\n",
       "      <td>0.000</td>\n",
       "      <td>0.000</td>\n",
       "      <td>0.000</td>\n",
       "      <td>1.000</td>\n",
       "    </tr>\n",
       "    <tr>\n",
       "      <th>has_term_deposit</th>\n",
       "      <td>41176.0</td>\n",
       "      <td>0.112663</td>\n",
       "      <td>0.316184</td>\n",
       "      <td>0.000</td>\n",
       "      <td>0.000</td>\n",
       "      <td>0.000</td>\n",
       "      <td>0.000</td>\n",
       "      <td>1.000</td>\n",
       "    </tr>\n",
       "    <tr>\n",
       "      <th>age_band</th>\n",
       "      <td>41176.0</td>\n",
       "      <td>2.450044</td>\n",
       "      <td>1.069341</td>\n",
       "      <td>0.000</td>\n",
       "      <td>2.000</td>\n",
       "      <td>2.000</td>\n",
       "      <td>3.000</td>\n",
       "      <td>8.000</td>\n",
       "    </tr>\n",
       "    <tr>\n",
       "      <th>new_passed_days</th>\n",
       "      <td>41176.0</td>\n",
       "      <td>0.036793</td>\n",
       "      <td>0.188256</td>\n",
       "      <td>0.000</td>\n",
       "      <td>0.000</td>\n",
       "      <td>0.000</td>\n",
       "      <td>0.000</td>\n",
       "      <td>1.000</td>\n",
       "    </tr>\n",
       "  </tbody>\n",
       "</table>\n",
       "</div>"
      ],
      "text/plain": [
       "                             count         mean         std       min  \\\n",
       "age                        41176.0    39.659413    9.739905    17.000   \n",
       "job                        41176.0     4.058214    3.986478     0.000   \n",
       "marital                    41176.0     1.451647    1.016533     0.000   \n",
       "education                  41176.0     4.136924    2.739054     0.000   \n",
       "default                    41176.0     0.208908    0.406713     0.000   \n",
       "housing                    41176.0     1.071789    0.985305     0.000   \n",
       "loan                       41176.0     0.327521    0.723700     0.000   \n",
       "contact_type               41176.0     0.365286    0.481516     0.000   \n",
       "month                      41176.0     4.231033    2.319973     0.000   \n",
       "day_of_week                41176.0     2.004614    1.397692     0.000   \n",
       "last_contact_duration      41176.0   233.001020  189.904579     0.000   \n",
       "campaign                   41176.0     2.268239    1.700447     1.000   \n",
       "passed_days                41176.0    -0.951282    0.429464    -1.000   \n",
       "previous                   41176.0     0.110768    0.313849     0.000   \n",
       "previous_outcome           41176.0     0.930081    0.362937     0.000   \n",
       "employment_variation_rate  41176.0     0.081922    1.570883    -3.400   \n",
       "consumer_price_index       41176.0    93.575720    0.578839    92.201   \n",
       "consumer_confidence_index  41176.0   -40.502863    4.627860   -50.800   \n",
       "euribor3m                  41176.0     3.621293    1.734437     0.634   \n",
       "number_of_employees        41176.0  5167.034870   72.251364  4963.600   \n",
       "y                          41176.0     0.112663    0.316184     0.000   \n",
       "has_term_deposit           41176.0     0.112663    0.316184     0.000   \n",
       "age_band                   41176.0     2.450044    1.069341     0.000   \n",
       "new_passed_days            41176.0     0.036793    0.188256     0.000   \n",
       "\n",
       "                                25%       50%       75%       max  \n",
       "age                          32.000    38.000    47.000    71.000  \n",
       "job                           0.000     2.000     8.000    11.000  \n",
       "marital                       1.000     1.000     3.000     3.000  \n",
       "education                     2.000     5.000     7.000     7.000  \n",
       "default                       0.000     0.000     0.000     2.000  \n",
       "housing                       0.000     2.000     2.000     2.000  \n",
       "loan                          0.000     0.000     0.000     2.000  \n",
       "contact_type                  0.000     0.000     1.000     1.000  \n",
       "month                         3.000     4.000     6.000     9.000  \n",
       "day_of_week                   1.000     2.000     3.000     4.000  \n",
       "last_contact_duration       102.000   180.000   301.000  1036.000  \n",
       "campaign                      1.000     2.000     3.000    10.000  \n",
       "passed_days                  -1.000    -1.000    -1.000     3.000  \n",
       "previous                      0.000     0.000     0.000     1.000  \n",
       "previous_outcome              1.000     1.000     1.000     2.000  \n",
       "employment_variation_rate    -1.800     1.100     1.400     1.400  \n",
       "consumer_price_index         93.075    93.749    93.994    94.767  \n",
       "consumer_confidence_index   -42.700   -41.800   -36.400   -26.900  \n",
       "euribor3m                     1.344     4.857     4.961     5.045  \n",
       "number_of_employees        5099.100  5191.000  5228.100  5228.100  \n",
       "y                             0.000     0.000     0.000     1.000  \n",
       "has_term_deposit              0.000     0.000     0.000     1.000  \n",
       "age_band                      2.000     2.000     3.000     8.000  \n",
       "new_passed_days               0.000     0.000     0.000     1.000  "
      ]
     },
     "execution_count": 10,
     "metadata": {},
     "output_type": "execute_result"
    }
   ],
   "source": [
    "df.describe().T"
   ]
  },
  {
   "cell_type": "code",
   "execution_count": 11,
   "metadata": {},
   "outputs": [],
   "source": [
    "# Split the Data into Training and Testing Sets\n",
    "X = df.drop(['has_term_deposit', 'y'], axis=1)\n",
    "y = df['has_term_deposit']\n"
   ]
  },
  {
   "cell_type": "code",
   "execution_count": 12,
   "metadata": {},
   "outputs": [
    {
     "name": "stdout",
     "output_type": "stream",
     "text": [
      "Variable                  Type         Data/Info\n",
      "------------------------------------------------\n",
      "DecisionTreeClassifier    ABCMeta      <class 'sklearn.tree._cla<...>.DecisionTreeClassifier'>\n",
      "KNeighborsClassifier      ABCMeta      <class 'sklearn.neighbors<...>on.KNeighborsClassifier'>\n",
      "LabelEncoder              type         <class 'sklearn.preproces<...>ing._label.LabelEncoder'>\n",
      "LogisticRegression        type         <class 'sklearn.linear_mo<...>stic.LogisticRegression'>\n",
      "RandomForestClassifier    ABCMeta      <class 'sklearn.ensemble.<...>.RandomForestClassifier'>\n",
      "SMOTE                     ABCMeta      <class 'imblearn.over_sam<...>pling._smote.base.SMOTE'>\n",
      "SVC                       ABCMeta      <class 'sklearn.svm._classes.SVC'>\n",
      "StandardScaler            type         <class 'sklearn.preproces<...>ng._data.StandardScaler'>\n",
      "X                         DataFrame           age  job  marital <...>[41176 rows x 22 columns]\n",
      "accuracy_score            function     <function accuracy_score at 0x12a74ef20>\n",
      "auc                       function     <function auc at 0x12a771e40>\n",
      "average_precision_score   function     <function average_precision_score at 0x12a771f80>\n",
      "confusion_matrix          function     <function confusion_matrix at 0x12a74f060>\n",
      "df                        DataFrame           age  job  marital <...>[41176 rows x 24 columns]\n",
      "f1_score                  function     <function f1_score at 0x12a74f7e0>\n",
      "go                        module       <module 'plotly.graph_obj<...>aph_objects/__init__.py'>\n",
      "mean_absolute_error       function     <function mean_absolute_error at 0x12a78c180>\n",
      "mean_squared_error        function     <function mean_squared_error at 0x12a78c540>\n",
      "msno                      module       <module 'missingno' from <...>s/missingno/__init__.py'>\n",
      "np                        module       <module 'numpy' from '/Vo<...>kages/numpy/__init__.py'>\n",
      "path                      str          datasets_case_3/2_dataset_after_resampling.csv\n",
      "pd                        module       <module 'pandas' from '/V<...>ages/pandas/__init__.py'>\n",
      "plt                       module       <module 'matplotlib.pyplo<...>es/matplotlib/pyplot.py'>\n",
      "precision_recall_curve    function     <function precision_recall_curve at 0x12a772520>\n",
      "precision_score           function     <function precision_score at 0x12a74ff60>\n",
      "px                        module       <module 'plotly.express' <...>tly/express/__init__.py'>\n",
      "r2_score                  function     <function r2_score at 0x12a78cae0>\n",
      "recall_score              function     <function recall_score at 0x12a770180>\n",
      "roc_auc_score             function     <function roc_auc_score at 0x12a7722a0>\n",
      "roc_curve                 function     <function roc_curve at 0x12a772660>\n",
      "sns                       module       <module 'seaborn' from '/<...>ges/seaborn/__init__.py'>\n",
      "stats                     module       <module 'scipy.stats' fro<...>scipy/stats/__init__.py'>\n",
      "tabulate                  function     <function tabulate at 0x12a174d60>\n",
      "train_test_split          function     <function train_test_split at 0x12acc1800>\n",
      "warnings                  module       <module 'warnings' from '<...>/python3.11/warnings.py'>\n",
      "y                         Series       0        0\\n1        0\\n2<...>ngth: 41176, dtype: int64\n"
     ]
    }
   ],
   "source": [
    "# To see all the variables created globally across the notebook.\n",
    "%whos\n"
   ]
  },
  {
   "cell_type": "code",
   "execution_count": 13,
   "metadata": {},
   "outputs": [
    {
     "data": {
      "text/plain": [
       "array([[ 1.67771497, -0.26545394, -0.44430646, ...,  0.33169507,\n",
       "         1.44946708, -0.19544496],\n",
       "       [ 1.78038661,  0.98880117, -0.44430646, ...,  0.33169507,\n",
       "         1.44946708, -0.19544496],\n",
       "       [-0.27304634,  0.98880117, -0.44430646, ...,  0.33169507,\n",
       "        -0.42086577, -0.19544496],\n",
       "       ...,\n",
       "       [ 1.67771497,  0.48709912, -0.44430646, ..., -2.81568858,\n",
       "         1.44946708, -0.19544496],\n",
       "       [ 0.44565519,  1.49050321, -0.44430646, ..., -2.81568858,\n",
       "         0.51430065, -0.19544496],\n",
       "       [-0.17037469,  0.48709912, -0.44430646, ..., -2.81568858,\n",
       "         3.31979994, -0.19544496]])"
      ]
     },
     "execution_count": 13,
     "metadata": {},
     "output_type": "execute_result"
    }
   ],
   "source": [
    "# Create a scaler\n",
    "sc = StandardScaler()\n",
    "sc.fit_transform(X)\n"
   ]
  },
  {
   "cell_type": "code",
   "execution_count": 18,
   "metadata": {},
   "outputs": [],
   "source": [
    "# Dataset splitting\n",
    "X_train, X_test, y_train, y_test = train_test_split(X, y, test_size=0.20, random_state=42)\n"
   ]
  },
  {
   "cell_type": "code",
   "execution_count": 19,
   "metadata": {},
   "outputs": [
    {
     "data": {
      "text/html": [
       "<div>\n",
       "<style scoped>\n",
       "    .dataframe tbody tr th:only-of-type {\n",
       "        vertical-align: middle;\n",
       "    }\n",
       "\n",
       "    .dataframe tbody tr th {\n",
       "        vertical-align: top;\n",
       "    }\n",
       "\n",
       "    .dataframe thead th {\n",
       "        text-align: right;\n",
       "    }\n",
       "</style>\n",
       "<table border=\"1\" class=\"dataframe\">\n",
       "  <thead>\n",
       "    <tr style=\"text-align: right;\">\n",
       "      <th></th>\n",
       "      <th>age</th>\n",
       "      <th>job</th>\n",
       "      <th>marital</th>\n",
       "      <th>education</th>\n",
       "      <th>default</th>\n",
       "      <th>housing</th>\n",
       "      <th>loan</th>\n",
       "      <th>contact_type</th>\n",
       "      <th>month</th>\n",
       "      <th>day_of_week</th>\n",
       "      <th>...</th>\n",
       "      <th>passed_days</th>\n",
       "      <th>previous</th>\n",
       "      <th>previous_outcome</th>\n",
       "      <th>employment_variation_rate</th>\n",
       "      <th>consumer_price_index</th>\n",
       "      <th>consumer_confidence_index</th>\n",
       "      <th>euribor3m</th>\n",
       "      <th>number_of_employees</th>\n",
       "      <th>age_band</th>\n",
       "      <th>new_passed_days</th>\n",
       "    </tr>\n",
       "  </thead>\n",
       "  <tbody>\n",
       "    <tr>\n",
       "      <th>12346</th>\n",
       "      <td>29</td>\n",
       "      <td>2</td>\n",
       "      <td>1</td>\n",
       "      <td>4</td>\n",
       "      <td>0</td>\n",
       "      <td>2</td>\n",
       "      <td>2</td>\n",
       "      <td>1</td>\n",
       "      <td>3</td>\n",
       "      <td>0</td>\n",
       "      <td>...</td>\n",
       "      <td>-1</td>\n",
       "      <td>0</td>\n",
       "      <td>1</td>\n",
       "      <td>1.4</td>\n",
       "      <td>93.918</td>\n",
       "      <td>-42.7</td>\n",
       "      <td>4.959</td>\n",
       "      <td>5228.1</td>\n",
       "      <td>1</td>\n",
       "      <td>0</td>\n",
       "    </tr>\n",
       "    <tr>\n",
       "      <th>8564</th>\n",
       "      <td>50</td>\n",
       "      <td>0</td>\n",
       "      <td>3</td>\n",
       "      <td>7</td>\n",
       "      <td>0</td>\n",
       "      <td>0</td>\n",
       "      <td>0</td>\n",
       "      <td>1</td>\n",
       "      <td>4</td>\n",
       "      <td>4</td>\n",
       "      <td>...</td>\n",
       "      <td>-1</td>\n",
       "      <td>0</td>\n",
       "      <td>1</td>\n",
       "      <td>1.4</td>\n",
       "      <td>94.465</td>\n",
       "      <td>-41.8</td>\n",
       "      <td>4.864</td>\n",
       "      <td>5228.1</td>\n",
       "      <td>3</td>\n",
       "      <td>0</td>\n",
       "    </tr>\n",
       "    <tr>\n",
       "      <th>21417</th>\n",
       "      <td>29</td>\n",
       "      <td>0</td>\n",
       "      <td>3</td>\n",
       "      <td>7</td>\n",
       "      <td>0</td>\n",
       "      <td>0</td>\n",
       "      <td>0</td>\n",
       "      <td>0</td>\n",
       "      <td>1</td>\n",
       "      <td>3</td>\n",
       "      <td>...</td>\n",
       "      <td>-1</td>\n",
       "      <td>0</td>\n",
       "      <td>1</td>\n",
       "      <td>1.4</td>\n",
       "      <td>93.444</td>\n",
       "      <td>-36.1</td>\n",
       "      <td>4.963</td>\n",
       "      <td>5228.1</td>\n",
       "      <td>1</td>\n",
       "      <td>0</td>\n",
       "    </tr>\n",
       "    <tr>\n",
       "      <th>3315</th>\n",
       "      <td>35</td>\n",
       "      <td>0</td>\n",
       "      <td>3</td>\n",
       "      <td>7</td>\n",
       "      <td>0</td>\n",
       "      <td>0</td>\n",
       "      <td>0</td>\n",
       "      <td>1</td>\n",
       "      <td>6</td>\n",
       "      <td>2</td>\n",
       "      <td>...</td>\n",
       "      <td>-1</td>\n",
       "      <td>0</td>\n",
       "      <td>1</td>\n",
       "      <td>1.1</td>\n",
       "      <td>93.994</td>\n",
       "      <td>-36.4</td>\n",
       "      <td>4.860</td>\n",
       "      <td>5191.0</td>\n",
       "      <td>2</td>\n",
       "      <td>0</td>\n",
       "    </tr>\n",
       "    <tr>\n",
       "      <th>33236</th>\n",
       "      <td>40</td>\n",
       "      <td>1</td>\n",
       "      <td>3</td>\n",
       "      <td>0</td>\n",
       "      <td>1</td>\n",
       "      <td>0</td>\n",
       "      <td>0</td>\n",
       "      <td>0</td>\n",
       "      <td>6</td>\n",
       "      <td>3</td>\n",
       "      <td>...</td>\n",
       "      <td>-1</td>\n",
       "      <td>0</td>\n",
       "      <td>1</td>\n",
       "      <td>-1.8</td>\n",
       "      <td>92.893</td>\n",
       "      <td>-46.2</td>\n",
       "      <td>1.291</td>\n",
       "      <td>5099.1</td>\n",
       "      <td>2</td>\n",
       "      <td>0</td>\n",
       "    </tr>\n",
       "  </tbody>\n",
       "</table>\n",
       "<p>5 rows × 22 columns</p>\n",
       "</div>"
      ],
      "text/plain": [
       "       age  job  marital  education  default  housing  loan  contact_type  \\\n",
       "12346   29    2        1          4        0        2     2             1   \n",
       "8564    50    0        3          7        0        0     0             1   \n",
       "21417   29    0        3          7        0        0     0             0   \n",
       "3315    35    0        3          7        0        0     0             1   \n",
       "33236   40    1        3          0        1        0     0             0   \n",
       "\n",
       "       month  day_of_week  ...  passed_days  previous  previous_outcome  \\\n",
       "12346      3            0  ...           -1         0                 1   \n",
       "8564       4            4  ...           -1         0                 1   \n",
       "21417      1            3  ...           -1         0                 1   \n",
       "3315       6            2  ...           -1         0                 1   \n",
       "33236      6            3  ...           -1         0                 1   \n",
       "\n",
       "       employment_variation_rate  consumer_price_index  \\\n",
       "12346                        1.4                93.918   \n",
       "8564                         1.4                94.465   \n",
       "21417                        1.4                93.444   \n",
       "3315                         1.1                93.994   \n",
       "33236                       -1.8                92.893   \n",
       "\n",
       "       consumer_confidence_index  euribor3m  number_of_employees  age_band  \\\n",
       "12346                      -42.7      4.959               5228.1         1   \n",
       "8564                       -41.8      4.864               5228.1         3   \n",
       "21417                      -36.1      4.963               5228.1         1   \n",
       "3315                       -36.4      4.860               5191.0         2   \n",
       "33236                      -46.2      1.291               5099.1         2   \n",
       "\n",
       "       new_passed_days  \n",
       "12346                0  \n",
       "8564                 0  \n",
       "21417                0  \n",
       "3315                 0  \n",
       "33236                0  \n",
       "\n",
       "[5 rows x 22 columns]"
      ]
     },
     "execution_count": 19,
     "metadata": {},
     "output_type": "execute_result"
    }
   ],
   "source": [
    "X_train.head()\n"
   ]
  },
  {
   "cell_type": "code",
   "execution_count": 20,
   "metadata": {},
   "outputs": [
    {
     "data": {
      "text/plain": [
       "(32940, 22)"
      ]
     },
     "execution_count": 20,
     "metadata": {},
     "output_type": "execute_result"
    }
   ],
   "source": [
    "X_train.shape\n"
   ]
  },
  {
   "cell_type": "code",
   "execution_count": 21,
   "metadata": {},
   "outputs": [
    {
     "data": {
      "text/html": [
       "<div>\n",
       "<style scoped>\n",
       "    .dataframe tbody tr th:only-of-type {\n",
       "        vertical-align: middle;\n",
       "    }\n",
       "\n",
       "    .dataframe tbody tr th {\n",
       "        vertical-align: top;\n",
       "    }\n",
       "\n",
       "    .dataframe thead th {\n",
       "        text-align: right;\n",
       "    }\n",
       "</style>\n",
       "<table border=\"1\" class=\"dataframe\">\n",
       "  <thead>\n",
       "    <tr style=\"text-align: right;\">\n",
       "      <th></th>\n",
       "      <th>age</th>\n",
       "      <th>job</th>\n",
       "      <th>marital</th>\n",
       "      <th>education</th>\n",
       "      <th>default</th>\n",
       "      <th>housing</th>\n",
       "      <th>loan</th>\n",
       "      <th>contact_type</th>\n",
       "      <th>month</th>\n",
       "      <th>day_of_week</th>\n",
       "      <th>...</th>\n",
       "      <th>passed_days</th>\n",
       "      <th>previous</th>\n",
       "      <th>previous_outcome</th>\n",
       "      <th>employment_variation_rate</th>\n",
       "      <th>consumer_price_index</th>\n",
       "      <th>consumer_confidence_index</th>\n",
       "      <th>euribor3m</th>\n",
       "      <th>number_of_employees</th>\n",
       "      <th>age_band</th>\n",
       "      <th>new_passed_days</th>\n",
       "    </tr>\n",
       "  </thead>\n",
       "  <tbody>\n",
       "    <tr>\n",
       "      <th>36254</th>\n",
       "      <td>59</td>\n",
       "      <td>6</td>\n",
       "      <td>1</td>\n",
       "      <td>5</td>\n",
       "      <td>0</td>\n",
       "      <td>2</td>\n",
       "      <td>2</td>\n",
       "      <td>0</td>\n",
       "      <td>4</td>\n",
       "      <td>1</td>\n",
       "      <td>...</td>\n",
       "      <td>-1</td>\n",
       "      <td>0</td>\n",
       "      <td>1</td>\n",
       "      <td>-2.9</td>\n",
       "      <td>92.963</td>\n",
       "      <td>-40.8</td>\n",
       "      <td>1.266</td>\n",
       "      <td>5076.2</td>\n",
       "      <td>4</td>\n",
       "      <td>0</td>\n",
       "    </tr>\n",
       "    <tr>\n",
       "      <th>32662</th>\n",
       "      <td>34</td>\n",
       "      <td>1</td>\n",
       "      <td>1</td>\n",
       "      <td>6</td>\n",
       "      <td>0</td>\n",
       "      <td>0</td>\n",
       "      <td>0</td>\n",
       "      <td>0</td>\n",
       "      <td>6</td>\n",
       "      <td>1</td>\n",
       "      <td>...</td>\n",
       "      <td>-1</td>\n",
       "      <td>1</td>\n",
       "      <td>0</td>\n",
       "      <td>-1.8</td>\n",
       "      <td>92.893</td>\n",
       "      <td>-46.2</td>\n",
       "      <td>1.299</td>\n",
       "      <td>5099.1</td>\n",
       "      <td>2</td>\n",
       "      <td>0</td>\n",
       "    </tr>\n",
       "    <tr>\n",
       "      <th>40860</th>\n",
       "      <td>32</td>\n",
       "      <td>10</td>\n",
       "      <td>1</td>\n",
       "      <td>5</td>\n",
       "      <td>0</td>\n",
       "      <td>2</td>\n",
       "      <td>0</td>\n",
       "      <td>0</td>\n",
       "      <td>8</td>\n",
       "      <td>4</td>\n",
       "      <td>...</td>\n",
       "      <td>-1</td>\n",
       "      <td>0</td>\n",
       "      <td>1</td>\n",
       "      <td>-1.1</td>\n",
       "      <td>94.601</td>\n",
       "      <td>-49.5</td>\n",
       "      <td>0.959</td>\n",
       "      <td>4963.6</td>\n",
       "      <td>2</td>\n",
       "      <td>0</td>\n",
       "    </tr>\n",
       "    <tr>\n",
       "      <th>32897</th>\n",
       "      <td>53</td>\n",
       "      <td>0</td>\n",
       "      <td>1</td>\n",
       "      <td>0</td>\n",
       "      <td>0</td>\n",
       "      <td>2</td>\n",
       "      <td>2</td>\n",
       "      <td>0</td>\n",
       "      <td>6</td>\n",
       "      <td>1</td>\n",
       "      <td>...</td>\n",
       "      <td>-1</td>\n",
       "      <td>1</td>\n",
       "      <td>0</td>\n",
       "      <td>-1.8</td>\n",
       "      <td>92.893</td>\n",
       "      <td>-46.2</td>\n",
       "      <td>1.299</td>\n",
       "      <td>5099.1</td>\n",
       "      <td>4</td>\n",
       "      <td>0</td>\n",
       "    </tr>\n",
       "    <tr>\n",
       "      <th>16461</th>\n",
       "      <td>24</td>\n",
       "      <td>8</td>\n",
       "      <td>3</td>\n",
       "      <td>6</td>\n",
       "      <td>0</td>\n",
       "      <td>2</td>\n",
       "      <td>0</td>\n",
       "      <td>1</td>\n",
       "      <td>3</td>\n",
       "      <td>4</td>\n",
       "      <td>...</td>\n",
       "      <td>-1</td>\n",
       "      <td>0</td>\n",
       "      <td>1</td>\n",
       "      <td>1.4</td>\n",
       "      <td>93.918</td>\n",
       "      <td>-42.7</td>\n",
       "      <td>4.963</td>\n",
       "      <td>5228.1</td>\n",
       "      <td>1</td>\n",
       "      <td>0</td>\n",
       "    </tr>\n",
       "  </tbody>\n",
       "</table>\n",
       "<p>5 rows × 22 columns</p>\n",
       "</div>"
      ],
      "text/plain": [
       "       age  job  marital  education  default  housing  loan  contact_type  \\\n",
       "36254   59    6        1          5        0        2     2             0   \n",
       "32662   34    1        1          6        0        0     0             0   \n",
       "40860   32   10        1          5        0        2     0             0   \n",
       "32897   53    0        1          0        0        2     2             0   \n",
       "16461   24    8        3          6        0        2     0             1   \n",
       "\n",
       "       month  day_of_week  ...  passed_days  previous  previous_outcome  \\\n",
       "36254      4            1  ...           -1         0                 1   \n",
       "32662      6            1  ...           -1         1                 0   \n",
       "40860      8            4  ...           -1         0                 1   \n",
       "32897      6            1  ...           -1         1                 0   \n",
       "16461      3            4  ...           -1         0                 1   \n",
       "\n",
       "       employment_variation_rate  consumer_price_index  \\\n",
       "36254                       -2.9                92.963   \n",
       "32662                       -1.8                92.893   \n",
       "40860                       -1.1                94.601   \n",
       "32897                       -1.8                92.893   \n",
       "16461                        1.4                93.918   \n",
       "\n",
       "       consumer_confidence_index  euribor3m  number_of_employees  age_band  \\\n",
       "36254                      -40.8      1.266               5076.2         4   \n",
       "32662                      -46.2      1.299               5099.1         2   \n",
       "40860                      -49.5      0.959               4963.6         2   \n",
       "32897                      -46.2      1.299               5099.1         4   \n",
       "16461                      -42.7      4.963               5228.1         1   \n",
       "\n",
       "       new_passed_days  \n",
       "36254                0  \n",
       "32662                0  \n",
       "40860                0  \n",
       "32897                0  \n",
       "16461                0  \n",
       "\n",
       "[5 rows x 22 columns]"
      ]
     },
     "execution_count": 21,
     "metadata": {},
     "output_type": "execute_result"
    }
   ],
   "source": [
    "X_test.head()\n"
   ]
  },
  {
   "cell_type": "code",
   "execution_count": 22,
   "metadata": {},
   "outputs": [
    {
     "data": {
      "text/plain": [
       "(8236, 22)"
      ]
     },
     "execution_count": 22,
     "metadata": {},
     "output_type": "execute_result"
    }
   ],
   "source": [
    "X_test.shape\n"
   ]
  },
  {
   "cell_type": "code",
   "execution_count": 26,
   "metadata": {},
   "outputs": [
    {
     "data": {
      "text/plain": [
       "12346    0\n",
       "8564     0\n",
       "21417    0\n",
       "3315     0\n",
       "33236    0\n",
       "Name: has_term_deposit, dtype: int64"
      ]
     },
     "execution_count": 26,
     "metadata": {},
     "output_type": "execute_result"
    }
   ],
   "source": [
    "y_train.head()\n"
   ]
  },
  {
   "cell_type": "code",
   "execution_count": 27,
   "metadata": {},
   "outputs": [
    {
     "data": {
      "text/plain": [
       "(32940,)"
      ]
     },
     "execution_count": 27,
     "metadata": {},
     "output_type": "execute_result"
    }
   ],
   "source": [
    "y_train.shape\n"
   ]
  },
  {
   "cell_type": "code",
   "execution_count": 28,
   "metadata": {},
   "outputs": [
    {
     "data": {
      "text/plain": [
       "36254    1\n",
       "32662    0\n",
       "40860    1\n",
       "32897    0\n",
       "16461    0\n",
       "Name: has_term_deposit, dtype: int64"
      ]
     },
     "execution_count": 28,
     "metadata": {},
     "output_type": "execute_result"
    }
   ],
   "source": [
    "y_test.head()\n"
   ]
  },
  {
   "cell_type": "code",
   "execution_count": 29,
   "metadata": {},
   "outputs": [
    {
     "data": {
      "text/plain": [
       "(8236,)"
      ]
     },
     "execution_count": 29,
     "metadata": {},
     "output_type": "execute_result"
    }
   ],
   "source": [
    "y_test.shape"
   ]
  },
  {
   "cell_type": "code",
   "execution_count": 30,
   "metadata": {},
   "outputs": [],
   "source": [
    "def calc_popularity(y_actual):\n",
    "    return (sum(y_actual)/len(y_actual))\n"
   ]
  },
  {
   "cell_type": "code",
   "execution_count": 31,
   "metadata": {},
   "outputs": [],
   "source": [
    "# Calculates specificity\n",
    "def calc_specificity(y_actual, y_pred, thresh):\n",
    "    return sum((y_pred < thresh) & (y_actual == 0)) /sum(y_actual ==0)\n"
   ]
  },
  {
   "cell_type": "code",
   "execution_count": 33,
   "metadata": {},
   "outputs": [],
   "source": [
    "# Evaluation of model performance\n",
    "def print_report(y_actual, y_pred, thresh):\n",
    "    auc = roc_auc_score(y_actual, y_pred)\n",
    "    accuracy = accuracy_score(y_actual, (y_pred > thresh))\n",
    "    recall = recall_score(y_actual, (y_pred > thresh))\n",
    "    precision = precision_score(y_actual, (y_pred > thresh))\n",
    "    specificity = calc_specificity(y_actual, y_pred, thresh)\n",
    "    f1 = 2 * (precision * recall) / (precision + recall)\n",
    "    logloss = log_loss(y_actual, y_pred)\n",
    "    r_squared = r2_score(y_actual, y_pred)\n",
    "    mae = mean_absolute_error(y_actual, y_pred)\n",
    "    mse = mean_squared_error(y_actual, y_pred)\n",
    "    rmse = np.sqrt(mse)\n",
    "    \n",
    "\n",
    "    tn, fp, fn, tp = confusion_matrix(y_actual, (y_pred > thresh)).ravel()\n",
    "\n",
    "    print('AUC: %.3f' % auc)\n",
    "    print('Accuracy: %.3f' % accuracy)\n",
    "    print('Recall: %.3f' % recall)\n",
    "    print('Precision: %.3f' % precision)\n",
    "    print('Specificity: %.3f' % specificity)\n",
    "    print('Popularity: %.3f' % calc_popularity(y_actual))\n",
    "    print('F1: %.3f' % f1)\n",
    "    print('Log Loss: %.3f' % logloss)\n",
    "    print('R-squared: %.3f' % r_squared)\n",
    "    print('MAE: %.3f' % mae)\n",
    "    print('MSE: %.3f' % mse)\n",
    "    print('RMSE: %.3f' % rmse)\n",
    "    \n",
    "\n",
    "    print('-'*20)\n",
    "    confusion_matrix_table = tabulate([['True Negative', tn], ['False Positive', fp], ['False Negative', fn], ['True Positive', tp]],\n",
    "                                     headers=['Metric', 'Value'], tablefmt='grid')\n",
    "    print('---------- Confusion Matrix ----------\\n')\n",
    "    print(confusion_matrix_table)\n",
    "\n",
    "    print(' ')\n",
    "    return auc, accuracy, recall, precision, specificity, f1, logloss, r_squared, mae, mse, rmse\n"
   ]
  },
  {
   "cell_type": "markdown",
   "metadata": {},
   "source": [
    "### Model Selection\n",
    "- Logistic regression.\n",
    "- KNN - K Nearest Neighbors.\n",
    "- Decision tree.\n",
    "- Random forest."
   ]
  },
  {
   "cell_type": "code",
   "execution_count": 34,
   "metadata": {},
   "outputs": [
    {
     "data": {
      "text/html": [
       "<style>#sk-container-id-1 {color: black;}#sk-container-id-1 pre{padding: 0;}#sk-container-id-1 div.sk-toggleable {background-color: white;}#sk-container-id-1 label.sk-toggleable__label {cursor: pointer;display: block;width: 100%;margin-bottom: 0;padding: 0.3em;box-sizing: border-box;text-align: center;}#sk-container-id-1 label.sk-toggleable__label-arrow:before {content: \"▸\";float: left;margin-right: 0.25em;color: #696969;}#sk-container-id-1 label.sk-toggleable__label-arrow:hover:before {color: black;}#sk-container-id-1 div.sk-estimator:hover label.sk-toggleable__label-arrow:before {color: black;}#sk-container-id-1 div.sk-toggleable__content {max-height: 0;max-width: 0;overflow: hidden;text-align: left;background-color: #f0f8ff;}#sk-container-id-1 div.sk-toggleable__content pre {margin: 0.2em;color: black;border-radius: 0.25em;background-color: #f0f8ff;}#sk-container-id-1 input.sk-toggleable__control:checked~div.sk-toggleable__content {max-height: 200px;max-width: 100%;overflow: auto;}#sk-container-id-1 input.sk-toggleable__control:checked~label.sk-toggleable__label-arrow:before {content: \"▾\";}#sk-container-id-1 div.sk-estimator input.sk-toggleable__control:checked~label.sk-toggleable__label {background-color: #d4ebff;}#sk-container-id-1 div.sk-label input.sk-toggleable__control:checked~label.sk-toggleable__label {background-color: #d4ebff;}#sk-container-id-1 input.sk-hidden--visually {border: 0;clip: rect(1px 1px 1px 1px);clip: rect(1px, 1px, 1px, 1px);height: 1px;margin: -1px;overflow: hidden;padding: 0;position: absolute;width: 1px;}#sk-container-id-1 div.sk-estimator {font-family: monospace;background-color: #f0f8ff;border: 1px dotted black;border-radius: 0.25em;box-sizing: border-box;margin-bottom: 0.5em;}#sk-container-id-1 div.sk-estimator:hover {background-color: #d4ebff;}#sk-container-id-1 div.sk-parallel-item::after {content: \"\";width: 100%;border-bottom: 1px solid gray;flex-grow: 1;}#sk-container-id-1 div.sk-label:hover label.sk-toggleable__label {background-color: #d4ebff;}#sk-container-id-1 div.sk-serial::before {content: \"\";position: absolute;border-left: 1px solid gray;box-sizing: border-box;top: 0;bottom: 0;left: 50%;z-index: 0;}#sk-container-id-1 div.sk-serial {display: flex;flex-direction: column;align-items: center;background-color: white;padding-right: 0.2em;padding-left: 0.2em;position: relative;}#sk-container-id-1 div.sk-item {position: relative;z-index: 1;}#sk-container-id-1 div.sk-parallel {display: flex;align-items: stretch;justify-content: center;background-color: white;position: relative;}#sk-container-id-1 div.sk-item::before, #sk-container-id-1 div.sk-parallel-item::before {content: \"\";position: absolute;border-left: 1px solid gray;box-sizing: border-box;top: 0;bottom: 0;left: 50%;z-index: -1;}#sk-container-id-1 div.sk-parallel-item {display: flex;flex-direction: column;z-index: 1;position: relative;background-color: white;}#sk-container-id-1 div.sk-parallel-item:first-child::after {align-self: flex-end;width: 50%;}#sk-container-id-1 div.sk-parallel-item:last-child::after {align-self: flex-start;width: 50%;}#sk-container-id-1 div.sk-parallel-item:only-child::after {width: 0;}#sk-container-id-1 div.sk-dashed-wrapped {border: 1px dashed gray;margin: 0 0.4em 0.5em 0.4em;box-sizing: border-box;padding-bottom: 0.4em;background-color: white;}#sk-container-id-1 div.sk-label label {font-family: monospace;font-weight: bold;display: inline-block;line-height: 1.2em;}#sk-container-id-1 div.sk-label-container {text-align: center;}#sk-container-id-1 div.sk-container {/* jupyter's `normalize.less` sets `[hidden] { display: none; }` but bootstrap.min.css set `[hidden] { display: none !important; }` so we also need the `!important` here to be able to override the default hidden behavior on the sphinx rendered scikit-learn.org. See: https://github.com/scikit-learn/scikit-learn/issues/21755 */display: inline-block !important;position: relative;}#sk-container-id-1 div.sk-text-repr-fallback {display: none;}</style><div id=\"sk-container-id-1\" class=\"sk-top-container\"><div class=\"sk-text-repr-fallback\"><pre>LogisticRegression(random_state=42)</pre><b>In a Jupyter environment, please rerun this cell to show the HTML representation or trust the notebook. <br />On GitHub, the HTML representation is unable to render, please try loading this page with nbviewer.org.</b></div><div class=\"sk-container\" hidden><div class=\"sk-item\"><div class=\"sk-estimator sk-toggleable\"><input class=\"sk-toggleable__control sk-hidden--visually\" id=\"sk-estimator-id-1\" type=\"checkbox\" checked><label for=\"sk-estimator-id-1\" class=\"sk-toggleable__label sk-toggleable__label-arrow\">LogisticRegression</label><div class=\"sk-toggleable__content\"><pre>LogisticRegression(random_state=42)</pre></div></div></div></div></div>"
      ],
      "text/plain": [
       "LogisticRegression(random_state=42)"
      ]
     },
     "execution_count": 34,
     "metadata": {},
     "output_type": "execute_result"
    }
   ],
   "source": [
    "# Logistic regression\n",
    "lr = LogisticRegression(random_state=42)\n",
    "lr.fit(X_train, y_train)\n"
   ]
  },
  {
   "cell_type": "code",
   "execution_count": 35,
   "metadata": {},
   "outputs": [
    {
     "name": "stdout",
     "output_type": "stream",
     "text": [
      "===============================================\n",
      "======== Logistic Regression Testing ========\n",
      "===============================================\n",
      "AUC: 0.871\n",
      "Accuracy: 0.898\n",
      "Recall: 0.287\n",
      "Precision: 0.653\n",
      "Specificity: 0.980\n",
      "Popularity: 0.118\n",
      "F1: 0.399\n",
      "Log Loss: 0.251\n",
      "R-squared: 0.287\n",
      "MAE: 0.145\n",
      "MSE: 0.074\n",
      "RMSE: 0.272\n",
      "--------------------\n",
      "---------- Confusion Matrix ----------\n",
      "\n",
      "+----------------+---------+\n",
      "| Metric         |   Value |\n",
      "+================+=========+\n",
      "| True Negative  |    7117 |\n",
      "+----------------+---------+\n",
      "| False Positive |     148 |\n",
      "+----------------+---------+\n",
      "| False Negative |     692 |\n",
      "+----------------+---------+\n",
      "| True Positive  |     279 |\n",
      "+----------------+---------+\n",
      " \n"
     ]
    }
   ],
   "source": [
    "# Make predictions on the testing set\n",
    "y_test_preds = lr.predict_proba(X_test)[:, 1]\n",
    "\n",
    "# Evaluate the model\n",
    "print('=' * 47)\n",
    "print('======== Logistic Regression ========')\n",
    "print('=' * 47)\n",
    "\n",
    "thresh = 0.5 \n",
    "\n",
    "lr_test_auc, lr_test_accuracy, lr_test_recall, lr_test_precision, lr_test_specificity, lr_test_f1, lr_test_log_loss, \\\n",
    "    lr_test_r_squared, lr_test_mae, lr_test_mse, lr_test_rmse = print_report(y_test, y_test_preds, thresh)"
   ]
  },
  {
   "cell_type": "code",
   "execution_count": 36,
   "metadata": {},
   "outputs": [
    {
     "data": {
      "text/html": [
       "<div>\n",
       "<style scoped>\n",
       "    .dataframe tbody tr th:only-of-type {\n",
       "        vertical-align: middle;\n",
       "    }\n",
       "\n",
       "    .dataframe tbody tr th {\n",
       "        vertical-align: top;\n",
       "    }\n",
       "\n",
       "    .dataframe thead th {\n",
       "        text-align: right;\n",
       "    }\n",
       "</style>\n",
       "<table border=\"1\" class=\"dataframe\">\n",
       "  <thead>\n",
       "    <tr style=\"text-align: right;\">\n",
       "      <th>Predicted</th>\n",
       "      <th>0</th>\n",
       "      <th>1</th>\n",
       "      <th>All</th>\n",
       "    </tr>\n",
       "    <tr>\n",
       "      <th>Actual</th>\n",
       "      <th></th>\n",
       "      <th></th>\n",
       "      <th></th>\n",
       "    </tr>\n",
       "  </thead>\n",
       "  <tbody>\n",
       "    <tr>\n",
       "      <th>0</th>\n",
       "      <td>7117</td>\n",
       "      <td>148</td>\n",
       "      <td>7265</td>\n",
       "    </tr>\n",
       "    <tr>\n",
       "      <th>1</th>\n",
       "      <td>692</td>\n",
       "      <td>279</td>\n",
       "      <td>971</td>\n",
       "    </tr>\n",
       "    <tr>\n",
       "      <th>All</th>\n",
       "      <td>7809</td>\n",
       "      <td>427</td>\n",
       "      <td>8236</td>\n",
       "    </tr>\n",
       "  </tbody>\n",
       "</table>\n",
       "</div>"
      ],
      "text/plain": [
       "Predicted     0    1   All\n",
       "Actual                    \n",
       "0          7117  148  7265\n",
       "1           692  279   971\n",
       "All        7809  427  8236"
      ]
     },
     "execution_count": 36,
     "metadata": {},
     "output_type": "execute_result"
    }
   ],
   "source": [
    "\n",
    "y_test_binary_preds = (y_test_preds >= thresh).astype(int)\n",
    "\n",
    "# Create a DataFrame with actual and predicted labels\n",
    "df = pd.DataFrame({\n",
    "    'Actual': y_test,\n",
    "    'Predicted': y_test_binary_preds\n",
    "})\n",
    "\n",
    "# Create a crosstab table\n",
    "crosstab_table = pd.crosstab(df['Actual'], df['Predicted'], margins=True)\n",
    "crosstab_table\n"
   ]
  },
  {
   "cell_type": "code",
   "execution_count": 37,
   "metadata": {},
   "outputs": [
    {
     "data": {
      "text/html": [
       "<style>#sk-container-id-2 {color: black;}#sk-container-id-2 pre{padding: 0;}#sk-container-id-2 div.sk-toggleable {background-color: white;}#sk-container-id-2 label.sk-toggleable__label {cursor: pointer;display: block;width: 100%;margin-bottom: 0;padding: 0.3em;box-sizing: border-box;text-align: center;}#sk-container-id-2 label.sk-toggleable__label-arrow:before {content: \"▸\";float: left;margin-right: 0.25em;color: #696969;}#sk-container-id-2 label.sk-toggleable__label-arrow:hover:before {color: black;}#sk-container-id-2 div.sk-estimator:hover label.sk-toggleable__label-arrow:before {color: black;}#sk-container-id-2 div.sk-toggleable__content {max-height: 0;max-width: 0;overflow: hidden;text-align: left;background-color: #f0f8ff;}#sk-container-id-2 div.sk-toggleable__content pre {margin: 0.2em;color: black;border-radius: 0.25em;background-color: #f0f8ff;}#sk-container-id-2 input.sk-toggleable__control:checked~div.sk-toggleable__content {max-height: 200px;max-width: 100%;overflow: auto;}#sk-container-id-2 input.sk-toggleable__control:checked~label.sk-toggleable__label-arrow:before {content: \"▾\";}#sk-container-id-2 div.sk-estimator input.sk-toggleable__control:checked~label.sk-toggleable__label {background-color: #d4ebff;}#sk-container-id-2 div.sk-label input.sk-toggleable__control:checked~label.sk-toggleable__label {background-color: #d4ebff;}#sk-container-id-2 input.sk-hidden--visually {border: 0;clip: rect(1px 1px 1px 1px);clip: rect(1px, 1px, 1px, 1px);height: 1px;margin: -1px;overflow: hidden;padding: 0;position: absolute;width: 1px;}#sk-container-id-2 div.sk-estimator {font-family: monospace;background-color: #f0f8ff;border: 1px dotted black;border-radius: 0.25em;box-sizing: border-box;margin-bottom: 0.5em;}#sk-container-id-2 div.sk-estimator:hover {background-color: #d4ebff;}#sk-container-id-2 div.sk-parallel-item::after {content: \"\";width: 100%;border-bottom: 1px solid gray;flex-grow: 1;}#sk-container-id-2 div.sk-label:hover label.sk-toggleable__label {background-color: #d4ebff;}#sk-container-id-2 div.sk-serial::before {content: \"\";position: absolute;border-left: 1px solid gray;box-sizing: border-box;top: 0;bottom: 0;left: 50%;z-index: 0;}#sk-container-id-2 div.sk-serial {display: flex;flex-direction: column;align-items: center;background-color: white;padding-right: 0.2em;padding-left: 0.2em;position: relative;}#sk-container-id-2 div.sk-item {position: relative;z-index: 1;}#sk-container-id-2 div.sk-parallel {display: flex;align-items: stretch;justify-content: center;background-color: white;position: relative;}#sk-container-id-2 div.sk-item::before, #sk-container-id-2 div.sk-parallel-item::before {content: \"\";position: absolute;border-left: 1px solid gray;box-sizing: border-box;top: 0;bottom: 0;left: 50%;z-index: -1;}#sk-container-id-2 div.sk-parallel-item {display: flex;flex-direction: column;z-index: 1;position: relative;background-color: white;}#sk-container-id-2 div.sk-parallel-item:first-child::after {align-self: flex-end;width: 50%;}#sk-container-id-2 div.sk-parallel-item:last-child::after {align-self: flex-start;width: 50%;}#sk-container-id-2 div.sk-parallel-item:only-child::after {width: 0;}#sk-container-id-2 div.sk-dashed-wrapped {border: 1px dashed gray;margin: 0 0.4em 0.5em 0.4em;box-sizing: border-box;padding-bottom: 0.4em;background-color: white;}#sk-container-id-2 div.sk-label label {font-family: monospace;font-weight: bold;display: inline-block;line-height: 1.2em;}#sk-container-id-2 div.sk-label-container {text-align: center;}#sk-container-id-2 div.sk-container {/* jupyter's `normalize.less` sets `[hidden] { display: none; }` but bootstrap.min.css set `[hidden] { display: none !important; }` so we also need the `!important` here to be able to override the default hidden behavior on the sphinx rendered scikit-learn.org. See: https://github.com/scikit-learn/scikit-learn/issues/21755 */display: inline-block !important;position: relative;}#sk-container-id-2 div.sk-text-repr-fallback {display: none;}</style><div id=\"sk-container-id-2\" class=\"sk-top-container\"><div class=\"sk-text-repr-fallback\"><pre>KNeighborsClassifier()</pre><b>In a Jupyter environment, please rerun this cell to show the HTML representation or trust the notebook. <br />On GitHub, the HTML representation is unable to render, please try loading this page with nbviewer.org.</b></div><div class=\"sk-container\" hidden><div class=\"sk-item\"><div class=\"sk-estimator sk-toggleable\"><input class=\"sk-toggleable__control sk-hidden--visually\" id=\"sk-estimator-id-2\" type=\"checkbox\" checked><label for=\"sk-estimator-id-2\" class=\"sk-toggleable__label sk-toggleable__label-arrow\">KNeighborsClassifier</label><div class=\"sk-toggleable__content\"><pre>KNeighborsClassifier()</pre></div></div></div></div></div>"
      ],
      "text/plain": [
       "KNeighborsClassifier()"
      ]
     },
     "execution_count": 37,
     "metadata": {},
     "output_type": "execute_result"
    }
   ],
   "source": [
    "# KNN - K Nearest Neighbors.\n",
    "knn_model = KNeighborsClassifier()\n",
    "knn_model.fit(X_train, y_train)\n"
   ]
  },
  {
   "cell_type": "code",
   "execution_count": 38,
   "metadata": {},
   "outputs": [
    {
     "name": "stdout",
     "output_type": "stream",
     "text": [
      "===============================================\n",
      "======== K Nearest Neighbors Testing ========\n",
      "===============================================\n",
      "AUC: 0.858\n",
      "Accuracy: 0.894\n",
      "Recall: 0.423\n",
      "Precision: 0.566\n",
      "Specificity: 0.957\n",
      "Popularity: 0.118\n",
      "F1: 0.484\n",
      "Log Loss: 0.949\n",
      "R-squared: 0.264\n",
      "MAE: 0.126\n",
      "MSE: 0.077\n",
      "RMSE: 0.277\n",
      "--------------------\n",
      "---------- Confusion Matrix ----------\n",
      "\n",
      "+----------------+---------+\n",
      "| Metric         |   Value |\n",
      "+================+=========+\n",
      "| True Negative  |    6950 |\n",
      "+----------------+---------+\n",
      "| False Positive |     315 |\n",
      "+----------------+---------+\n",
      "| False Negative |     560 |\n",
      "+----------------+---------+\n",
      "| True Positive  |     411 |\n",
      "+----------------+---------+\n",
      " \n"
     ]
    }
   ],
   "source": [
    "# Make predictions on the testing set\n",
    "y_test_preds_knn = knn_model.predict_proba(X_test)[:, 1]\n",
    "\n",
    "# Evaluate the KNN model\n",
    "print('=' * 47)\n",
    "print('======== K Nearest Neighbors ========')\n",
    "print('=' * 47)\n",
    "\n",
    "thresh = 0.5\n",
    "\n",
    "knn_test_auc, knn_test_accuracy, knn_test_recall, \\\n",
    "    knn_test_precision, knn_test_specificity, knn_test_f1, knn_test_log_loss, knn_test_r_squared, knn_test_mae, knn_test_mse, knn_test_rmse  = print_report(y_test, y_test_preds_knn, thresh)\n"
   ]
  },
  {
   "cell_type": "code",
   "execution_count": 39,
   "metadata": {},
   "outputs": [
    {
     "data": {
      "text/html": [
       "<style>#sk-container-id-3 {color: black;}#sk-container-id-3 pre{padding: 0;}#sk-container-id-3 div.sk-toggleable {background-color: white;}#sk-container-id-3 label.sk-toggleable__label {cursor: pointer;display: block;width: 100%;margin-bottom: 0;padding: 0.3em;box-sizing: border-box;text-align: center;}#sk-container-id-3 label.sk-toggleable__label-arrow:before {content: \"▸\";float: left;margin-right: 0.25em;color: #696969;}#sk-container-id-3 label.sk-toggleable__label-arrow:hover:before {color: black;}#sk-container-id-3 div.sk-estimator:hover label.sk-toggleable__label-arrow:before {color: black;}#sk-container-id-3 div.sk-toggleable__content {max-height: 0;max-width: 0;overflow: hidden;text-align: left;background-color: #f0f8ff;}#sk-container-id-3 div.sk-toggleable__content pre {margin: 0.2em;color: black;border-radius: 0.25em;background-color: #f0f8ff;}#sk-container-id-3 input.sk-toggleable__control:checked~div.sk-toggleable__content {max-height: 200px;max-width: 100%;overflow: auto;}#sk-container-id-3 input.sk-toggleable__control:checked~label.sk-toggleable__label-arrow:before {content: \"▾\";}#sk-container-id-3 div.sk-estimator input.sk-toggleable__control:checked~label.sk-toggleable__label {background-color: #d4ebff;}#sk-container-id-3 div.sk-label input.sk-toggleable__control:checked~label.sk-toggleable__label {background-color: #d4ebff;}#sk-container-id-3 input.sk-hidden--visually {border: 0;clip: rect(1px 1px 1px 1px);clip: rect(1px, 1px, 1px, 1px);height: 1px;margin: -1px;overflow: hidden;padding: 0;position: absolute;width: 1px;}#sk-container-id-3 div.sk-estimator {font-family: monospace;background-color: #f0f8ff;border: 1px dotted black;border-radius: 0.25em;box-sizing: border-box;margin-bottom: 0.5em;}#sk-container-id-3 div.sk-estimator:hover {background-color: #d4ebff;}#sk-container-id-3 div.sk-parallel-item::after {content: \"\";width: 100%;border-bottom: 1px solid gray;flex-grow: 1;}#sk-container-id-3 div.sk-label:hover label.sk-toggleable__label {background-color: #d4ebff;}#sk-container-id-3 div.sk-serial::before {content: \"\";position: absolute;border-left: 1px solid gray;box-sizing: border-box;top: 0;bottom: 0;left: 50%;z-index: 0;}#sk-container-id-3 div.sk-serial {display: flex;flex-direction: column;align-items: center;background-color: white;padding-right: 0.2em;padding-left: 0.2em;position: relative;}#sk-container-id-3 div.sk-item {position: relative;z-index: 1;}#sk-container-id-3 div.sk-parallel {display: flex;align-items: stretch;justify-content: center;background-color: white;position: relative;}#sk-container-id-3 div.sk-item::before, #sk-container-id-3 div.sk-parallel-item::before {content: \"\";position: absolute;border-left: 1px solid gray;box-sizing: border-box;top: 0;bottom: 0;left: 50%;z-index: -1;}#sk-container-id-3 div.sk-parallel-item {display: flex;flex-direction: column;z-index: 1;position: relative;background-color: white;}#sk-container-id-3 div.sk-parallel-item:first-child::after {align-self: flex-end;width: 50%;}#sk-container-id-3 div.sk-parallel-item:last-child::after {align-self: flex-start;width: 50%;}#sk-container-id-3 div.sk-parallel-item:only-child::after {width: 0;}#sk-container-id-3 div.sk-dashed-wrapped {border: 1px dashed gray;margin: 0 0.4em 0.5em 0.4em;box-sizing: border-box;padding-bottom: 0.4em;background-color: white;}#sk-container-id-3 div.sk-label label {font-family: monospace;font-weight: bold;display: inline-block;line-height: 1.2em;}#sk-container-id-3 div.sk-label-container {text-align: center;}#sk-container-id-3 div.sk-container {/* jupyter's `normalize.less` sets `[hidden] { display: none; }` but bootstrap.min.css set `[hidden] { display: none !important; }` so we also need the `!important` here to be able to override the default hidden behavior on the sphinx rendered scikit-learn.org. See: https://github.com/scikit-learn/scikit-learn/issues/21755 */display: inline-block !important;position: relative;}#sk-container-id-3 div.sk-text-repr-fallback {display: none;}</style><div id=\"sk-container-id-3\" class=\"sk-top-container\"><div class=\"sk-text-repr-fallback\"><pre>DecisionTreeClassifier(random_state=42)</pre><b>In a Jupyter environment, please rerun this cell to show the HTML representation or trust the notebook. <br />On GitHub, the HTML representation is unable to render, please try loading this page with nbviewer.org.</b></div><div class=\"sk-container\" hidden><div class=\"sk-item\"><div class=\"sk-estimator sk-toggleable\"><input class=\"sk-toggleable__control sk-hidden--visually\" id=\"sk-estimator-id-3\" type=\"checkbox\" checked><label for=\"sk-estimator-id-3\" class=\"sk-toggleable__label sk-toggleable__label-arrow\">DecisionTreeClassifier</label><div class=\"sk-toggleable__content\"><pre>DecisionTreeClassifier(random_state=42)</pre></div></div></div></div></div>"
      ],
      "text/plain": [
       "DecisionTreeClassifier(random_state=42)"
      ]
     },
     "execution_count": 39,
     "metadata": {},
     "output_type": "execute_result"
    }
   ],
   "source": [
    "# Decision tree\n",
    "dt_model = DecisionTreeClassifier(random_state=42)\n",
    "dt_model.fit(X_train, y_train)\n"
   ]
  },
  {
   "cell_type": "code",
   "execution_count": 40,
   "metadata": {},
   "outputs": [
    {
     "name": "stdout",
     "output_type": "stream",
     "text": [
      "===============================================\n",
      "======== Decision Tree ========\n",
      "===============================================\n",
      "AUC: 0.729\n",
      "Accuracy: 0.885\n",
      "Recall: 0.524\n",
      "Precision: 0.513\n",
      "Specificity: 0.933\n",
      "Popularity: 0.118\n",
      "F1: 0.518\n",
      "Log Loss: 4.140\n",
      "R-squared: -0.105\n",
      "MAE: 0.115\n",
      "MSE: 0.115\n",
      "RMSE: 0.339\n",
      "--------------------\n",
      "---------- Confusion Matrix ----------\n",
      "\n",
      "+----------------+---------+\n",
      "| Metric         |   Value |\n",
      "+================+=========+\n",
      "| True Negative  |    6781 |\n",
      "+----------------+---------+\n",
      "| False Positive |     484 |\n",
      "+----------------+---------+\n",
      "| False Negative |     462 |\n",
      "+----------------+---------+\n",
      "| True Positive  |     509 |\n",
      "+----------------+---------+\n",
      " \n"
     ]
    }
   ],
   "source": [
    "# Make predictions on the testing set\n",
    "y_test_preds_dt = dt_model.predict_proba(X_test)[:, 1]\n",
    "\n",
    "# Evaluate the Decision Tree model\n",
    "print('=' * 47)\n",
    "print('======== Decision Tree ========')\n",
    "print('=' * 47)\n",
    "\n",
    "thresh = 0.5\n",
    "\n",
    "dt_test_auc, dt_test_accuracy, dt_test_recall, \\\n",
    "    dt_test_precision, dt_test_specificity, dt_test_f1, dt_test_log_loss, dt_test_r_squared, dt_test_mae, dt_test_mse, dt_test_rmse  = print_report(y_test, y_test_preds_dt, thresh)\n"
   ]
  },
  {
   "cell_type": "code",
   "execution_count": 41,
   "metadata": {},
   "outputs": [
    {
     "data": {
      "text/html": [
       "<style>#sk-container-id-4 {color: black;}#sk-container-id-4 pre{padding: 0;}#sk-container-id-4 div.sk-toggleable {background-color: white;}#sk-container-id-4 label.sk-toggleable__label {cursor: pointer;display: block;width: 100%;margin-bottom: 0;padding: 0.3em;box-sizing: border-box;text-align: center;}#sk-container-id-4 label.sk-toggleable__label-arrow:before {content: \"▸\";float: left;margin-right: 0.25em;color: #696969;}#sk-container-id-4 label.sk-toggleable__label-arrow:hover:before {color: black;}#sk-container-id-4 div.sk-estimator:hover label.sk-toggleable__label-arrow:before {color: black;}#sk-container-id-4 div.sk-toggleable__content {max-height: 0;max-width: 0;overflow: hidden;text-align: left;background-color: #f0f8ff;}#sk-container-id-4 div.sk-toggleable__content pre {margin: 0.2em;color: black;border-radius: 0.25em;background-color: #f0f8ff;}#sk-container-id-4 input.sk-toggleable__control:checked~div.sk-toggleable__content {max-height: 200px;max-width: 100%;overflow: auto;}#sk-container-id-4 input.sk-toggleable__control:checked~label.sk-toggleable__label-arrow:before {content: \"▾\";}#sk-container-id-4 div.sk-estimator input.sk-toggleable__control:checked~label.sk-toggleable__label {background-color: #d4ebff;}#sk-container-id-4 div.sk-label input.sk-toggleable__control:checked~label.sk-toggleable__label {background-color: #d4ebff;}#sk-container-id-4 input.sk-hidden--visually {border: 0;clip: rect(1px 1px 1px 1px);clip: rect(1px, 1px, 1px, 1px);height: 1px;margin: -1px;overflow: hidden;padding: 0;position: absolute;width: 1px;}#sk-container-id-4 div.sk-estimator {font-family: monospace;background-color: #f0f8ff;border: 1px dotted black;border-radius: 0.25em;box-sizing: border-box;margin-bottom: 0.5em;}#sk-container-id-4 div.sk-estimator:hover {background-color: #d4ebff;}#sk-container-id-4 div.sk-parallel-item::after {content: \"\";width: 100%;border-bottom: 1px solid gray;flex-grow: 1;}#sk-container-id-4 div.sk-label:hover label.sk-toggleable__label {background-color: #d4ebff;}#sk-container-id-4 div.sk-serial::before {content: \"\";position: absolute;border-left: 1px solid gray;box-sizing: border-box;top: 0;bottom: 0;left: 50%;z-index: 0;}#sk-container-id-4 div.sk-serial {display: flex;flex-direction: column;align-items: center;background-color: white;padding-right: 0.2em;padding-left: 0.2em;position: relative;}#sk-container-id-4 div.sk-item {position: relative;z-index: 1;}#sk-container-id-4 div.sk-parallel {display: flex;align-items: stretch;justify-content: center;background-color: white;position: relative;}#sk-container-id-4 div.sk-item::before, #sk-container-id-4 div.sk-parallel-item::before {content: \"\";position: absolute;border-left: 1px solid gray;box-sizing: border-box;top: 0;bottom: 0;left: 50%;z-index: -1;}#sk-container-id-4 div.sk-parallel-item {display: flex;flex-direction: column;z-index: 1;position: relative;background-color: white;}#sk-container-id-4 div.sk-parallel-item:first-child::after {align-self: flex-end;width: 50%;}#sk-container-id-4 div.sk-parallel-item:last-child::after {align-self: flex-start;width: 50%;}#sk-container-id-4 div.sk-parallel-item:only-child::after {width: 0;}#sk-container-id-4 div.sk-dashed-wrapped {border: 1px dashed gray;margin: 0 0.4em 0.5em 0.4em;box-sizing: border-box;padding-bottom: 0.4em;background-color: white;}#sk-container-id-4 div.sk-label label {font-family: monospace;font-weight: bold;display: inline-block;line-height: 1.2em;}#sk-container-id-4 div.sk-label-container {text-align: center;}#sk-container-id-4 div.sk-container {/* jupyter's `normalize.less` sets `[hidden] { display: none; }` but bootstrap.min.css set `[hidden] { display: none !important; }` so we also need the `!important` here to be able to override the default hidden behavior on the sphinx rendered scikit-learn.org. See: https://github.com/scikit-learn/scikit-learn/issues/21755 */display: inline-block !important;position: relative;}#sk-container-id-4 div.sk-text-repr-fallback {display: none;}</style><div id=\"sk-container-id-4\" class=\"sk-top-container\"><div class=\"sk-text-repr-fallback\"><pre>RandomForestClassifier(random_state=42)</pre><b>In a Jupyter environment, please rerun this cell to show the HTML representation or trust the notebook. <br />On GitHub, the HTML representation is unable to render, please try loading this page with nbviewer.org.</b></div><div class=\"sk-container\" hidden><div class=\"sk-item\"><div class=\"sk-estimator sk-toggleable\"><input class=\"sk-toggleable__control sk-hidden--visually\" id=\"sk-estimator-id-4\" type=\"checkbox\" checked><label for=\"sk-estimator-id-4\" class=\"sk-toggleable__label sk-toggleable__label-arrow\">RandomForestClassifier</label><div class=\"sk-toggleable__content\"><pre>RandomForestClassifier(random_state=42)</pre></div></div></div></div></div>"
      ],
      "text/plain": [
       "RandomForestClassifier(random_state=42)"
      ]
     },
     "execution_count": 41,
     "metadata": {},
     "output_type": "execute_result"
    }
   ],
   "source": [
    "# Random forest\n",
    "rf_model = RandomForestClassifier(random_state=42)\n",
    "rf_model.fit(X_train, y_train)\n"
   ]
  },
  {
   "cell_type": "code",
   "execution_count": 42,
   "metadata": {},
   "outputs": [
    {
     "name": "stdout",
     "output_type": "stream",
     "text": [
      "===============================================\n",
      "======== Random Forest ========\n",
      "===============================================\n",
      "AUC: 0.936\n",
      "Accuracy: 0.908\n",
      "Recall: 0.432\n",
      "Precision: 0.673\n",
      "Specificity: 0.971\n",
      "Popularity: 0.118\n",
      "F1: 0.526\n",
      "Log Loss: 0.208\n",
      "R-squared: 0.409\n",
      "MAE: 0.124\n",
      "MSE: 0.061\n",
      "RMSE: 0.248\n",
      "--------------------\n",
      "---------- Confusion Matrix ----------\n",
      "\n",
      "+----------------+---------+\n",
      "| Metric         |   Value |\n",
      "+================+=========+\n",
      "| True Negative  |    7061 |\n",
      "+----------------+---------+\n",
      "| False Positive |     204 |\n",
      "+----------------+---------+\n",
      "| False Negative |     552 |\n",
      "+----------------+---------+\n",
      "| True Positive  |     419 |\n",
      "+----------------+---------+\n",
      " \n"
     ]
    }
   ],
   "source": [
    "# Make predictions on the testing set\n",
    "y_test_preds_rf = rf_model.predict_proba(X_test)[:, 1]\n",
    "\n",
    "# Evaluate the Random Forest model\n",
    "print('=' * 47)\n",
    "print('======== Random Forest ========')\n",
    "print('=' * 47)\n",
    "\n",
    "thresh = 0.5\n",
    "rf_test_auc, rf_test_accuracy, rf_test_recall, \\\n",
    "    rf_test_precision, rf_test_specificity, rf_test_f1, rf_test_log_loss, rf_test_r_squared, rf_test_mae, rf_test_mse, rf_test_rmse  = print_report(y_test, y_test_preds_rf, thresh)\n"
   ]
  },
  {
   "cell_type": "markdown",
   "metadata": {},
   "source": [
    "### Analyze results"
   ]
  },
  {
   "cell_type": "code",
   "execution_count": 43,
   "metadata": {},
   "outputs": [
    {
     "data": {
      "image/png": "[encoded data removed]",
      "text/plain": [
       "<Figure size 2000x1500 with 1 Axes>"
      ]
     },
     "metadata": {},
     "output_type": "display_data"
    }
   ],
   "source": [
    "# Analyze results\n",
    "# Create a DataFrame to store the results\n",
    "results_df = pd.DataFrame({\n",
    "    'Algorithm': ['Logistic Regression', 'K Nearest Neighbors', 'Decision Tree', 'Random Forest'],\n",
    "    'AUC': [lr_test_auc, knn_test_auc, dt_test_auc, rf_test_auc],\n",
    "    'Accuracy': [lr_test_accuracy, knn_test_accuracy, dt_test_accuracy, rf_test_accuracy],\n",
    "    'Recall': [lr_test_recall, knn_test_recall, dt_test_recall, rf_test_recall],\n",
    "    'Precision': [lr_test_precision, knn_test_precision, dt_test_precision, rf_test_precision],\n",
    "    'Specificity': [lr_test_specificity, knn_test_specificity, dt_test_specificity, rf_test_specificity],\n",
    "    'F1 Score': [lr_test_f1, knn_test_f1, dt_test_f1, rf_test_f1], \n",
    "    'Log Loss': [lr_test_log_loss, knn_test_log_loss, dt_test_log_loss, rf_test_log_loss], \n",
    "    'R-squared': [lr_test_r_squared, knn_test_r_squared, dt_test_r_squared, rf_test_r_squared], \n",
    "    'MAE': [lr_test_mae, knn_test_mae, dt_test_mae, rf_test_mae],\n",
    "    'MSE': [lr_test_mse, knn_test_mse, dt_test_mse, rf_test_mse],\n",
    "    'RMSE': [lr_test_rmse, knn_test_rmse, dt_test_rmse, rf_test_rmse]\n",
    "})\n",
    "\n",
    "# Set the Algorithm column as the index for better plotting\n",
    "results_df.set_index('Algorithm', inplace=True)\n",
    "\n",
    "# Plotting with customization\n",
    "ax = results_df.plot(kind='bar', colormap='Paired', width=0.8, figsize=(20, 15))\n",
    "\n",
    "# Add borders to the plot\n",
    "ax.spines['top'].set_visible(True)\n",
    "ax.spines['right'].set_visible(True)\n",
    "\n",
    "# Display percentage values on top of each bar\n",
    "for p in ax.patches:\n",
    "    width, height = p.get_width(), p.get_height()\n",
    "    x, y = p.get_xy() \n",
    "    offset = 0.01\n",
    "    ax.annotate(f'{height:.2%}', (x + width/2, y + height), ha='center', fontsize=10, fontweight='bold', rotation=90)\n",
    "\n",
    "plt.title('Comparison of Algorithm Performance on Testing Data', fontsize=20, fontweight='bold')\n",
    "plt.xlabel('Algorithm', fontsize=14, fontweight='bold')\n",
    "plt.ylabel('Score', fontsize=14, fontweight='bold')\n",
    "plt.legend(loc='center left', bbox_to_anchor=(1, 0.5))\n",
    "plt.show()"
   ]
  },
  {
   "cell_type": "code",
   "execution_count": 44,
   "metadata": {},
   "outputs": [
    {
     "data": {
      "image/png": "[encoded data removed]",
      "text/plain": [
       "<Figure size 2000x1800 with 1 Axes>"
      ]
     },
     "metadata": {},
     "output_type": "display_data"
    }
   ],
   "source": [
    "# Plotting with customization\n",
    "ax = results_df.plot(kind='bar', colormap='Paired', width=0.8, figsize=(20, 18))\n",
    "\n",
    "# Add borders to the plot\n",
    "ax.spines['top'].set_visible(True)\n",
    "ax.spines['right'].set_visible(True)\n",
    "\n",
    "# Display percentage values on top of each bar\n",
    "for p in ax.patches:\n",
    "    width, height = p.get_width(), p.get_height()\n",
    "    x, y = p.get_xy() \n",
    "    offset = 0.01\n",
    "    ax.annotate(f'{height:.2%}', (x + width/2, y + height + offset), ha='center', fontsize=10, fontweight='bold', rotation=90)\n",
    "\n",
    "plt.title('Comparison of Algorithm Performance on Testing Data', fontsize=20, fontweight='bold')\n",
    "plt.xlabel('Algorithm', fontsize=14, fontweight='bold')\n",
    "plt.ylabel('Score', fontsize=14, fontweight='bold')\n",
    "plt.legend(loc='center left', bbox_to_anchor=(1, 0.5))\n",
    "plt.show()\n"
   ]
  },
  {
   "cell_type": "code",
   "execution_count": 45,
   "metadata": {},
   "outputs": [
    {
     "data": {
      "application/vnd.plotly.v1+json": {
       "config": {
        "plotlyServerURL": "https://plot.ly"
       },
       "data": [
        {
         "alignmentgroup": "True",
         "hovertemplate": "Metric=AUC<br>Algorithm=%{x}<br>Percentage=%{y}<extra></extra>",
         "legendgroup": "AUC",
         "marker": {
          "color": "#636efa",
          "pattern": {
           "shape": ""
          }
         },
         "name": "AUC",
         "offsetgroup": "AUC",
         "orientation": "v",
         "showlegend": true,
         "textposition": "auto",
         "type": "bar",
         "x": [
          "Logistic Regression",
          "K Nearest Neighbors",
          "Decision Tree",
          "Random Forest"
         ],
         "xaxis": "x",
         "y": [
          17.025879853217518,
          14.603476964278336,
          8.3703825163191,
          17.031580678716203
         ],
         "yaxis": "y"
        },
        {
         "alignmentgroup": "True",
         "hovertemplate": "Metric=Accuracy<br>Algorithm=%{x}<br>Percentage=%{y}<extra></extra>",
         "legendgroup": "Accuracy",
         "marker": {
          "color": "#EF553B",
          "pattern": {
           "shape": ""
          }
         },
         "name": "Accuracy",
         "offsetgroup": "Accuracy",
         "orientation": "v",
         "showlegend": true,
         "textposition": "auto",
         "type": "bar",
         "x": [
          "Logistic Regression",
          "K Nearest Neighbors",
          "Decision Tree",
          "Random Forest"
         ],
         "xaxis": "x",
         "y": [
          17.545364955702453,
          15.213373890300485,
          10.166542633078146,
          16.52634399141192
         ],
         "yaxis": "y"
        },
        {
         "alignmentgroup": "True",
         "hovertemplate": "Metric=Recall<br>Algorithm=%{x}<br>Percentage=%{y}<extra></extra>",
         "legendgroup": "Recall",
         "marker": {
          "color": "#00cc96",
          "pattern": {
           "shape": ""
          }
         },
         "name": "Recall",
         "offsetgroup": "Recall",
         "orientation": "v",
         "showlegend": true,
         "textposition": "auto",
         "type": "bar",
         "x": [
          "Logistic Regression",
          "K Nearest Neighbors",
          "Decision Tree",
          "Random Forest"
         ],
         "xaxis": "x",
         "y": [
          5.613927698729788,
          7.204894916184565,
          6.020889381804863,
          7.852109030667366
         ],
         "yaxis": "y"
        },
        {
         "alignmentgroup": "True",
         "hovertemplate": "Metric=Precision<br>Algorithm=%{x}<br>Percentage=%{y}<extra></extra>",
         "legendgroup": "Precision",
         "marker": {
          "color": "#ab63fa",
          "pattern": {
           "shape": ""
          }
         },
         "name": "Precision",
         "offsetgroup": "Precision",
         "orientation": "v",
         "showlegend": true,
         "textposition": "auto",
         "type": "bar",
         "x": [
          "Logistic Regression",
          "K Nearest Neighbors",
          "Decision Tree",
          "Random Forest"
         ],
         "xaxis": "x",
         "y": [
          12.766097881654856,
          9.636298847954839,
          5.887496062167696,
          12.238198826288944
         ],
         "yaxis": "y"
        },
        {
         "alignmentgroup": "True",
         "hovertemplate": "Metric=Specificity<br>Algorithm=%{x}<br>Percentage=%{y}<extra></extra>",
         "legendgroup": "Specificity",
         "marker": {
          "color": "#FFA15A",
          "pattern": {
           "shape": ""
          }
         },
         "name": "Specificity",
         "offsetgroup": "Specificity",
         "orientation": "v",
         "showlegend": true,
         "textposition": "auto",
         "type": "bar",
         "x": [
          "Logistic Regression",
          "K Nearest Neighbors",
          "Decision Tree",
          "Random Forest"
         ],
         "xaxis": "x",
         "y": [
          19.140055330997768,
          16.283743206730843,
          10.719046897993447,
          17.665656987679615
         ],
         "yaxis": "y"
        },
        {
         "alignmentgroup": "True",
         "hovertemplate": "Metric=F1 Score<br>Algorithm=%{x}<br>Percentage=%{y}<extra></extra>",
         "legendgroup": "F1 Score",
         "marker": {
          "color": "#19d3f3",
          "pattern": {
           "shape": ""
          }
         },
         "name": "F1 Score",
         "offsetgroup": "F1 Score",
         "orientation": "v",
         "showlegend": true,
         "textposition": "auto",
         "type": "bar",
         "x": [
          "Logistic Regression",
          "K Nearest Neighbors",
          "Decision Tree",
          "Random Forest"
         ],
         "xaxis": "x",
         "y": [
          7.798460365474426,
          8.2450830449207,
          5.953445610725582,
          9.566371228077806
         ],
         "yaxis": "y"
        },
        {
         "alignmentgroup": "True",
         "hovertemplate": "Metric=R-squared<br>Algorithm=%{x}<br>Percentage=%{y}<extra></extra>",
         "legendgroup": "R-squared",
         "marker": {
          "color": "#FF6692",
          "pattern": {
           "shape": ""
          }
         },
         "name": "R-squared",
         "offsetgroup": "R-squared",
         "orientation": "v",
         "showlegend": true,
         "textposition": "auto",
         "type": "bar",
         "x": [
          "Logistic Regression",
          "K Nearest Neighbors",
          "Decision Tree",
          "Random Forest"
         ],
         "xaxis": "x",
         "y": [
          5.612909318160158,
          4.494549209111878,
          -1.2032384060493502,
          7.438864903540394
         ],
         "yaxis": "y"
        },
        {
         "alignmentgroup": "True",
         "hovertemplate": "Metric=MAE<br>Algorithm=%{x}<br>Percentage=%{y}<extra></extra>",
         "legendgroup": "MAE",
         "marker": {
          "color": "#B6E880",
          "pattern": {
           "shape": ""
          }
         },
         "name": "MAE",
         "offsetgroup": "MAE",
         "orientation": "v",
         "showlegend": true,
         "textposition": "auto",
         "type": "bar",
         "x": [
          "Logistic Regression",
          "K Nearest Neighbors",
          "Decision Tree",
          "Random Forest"
         ],
         "xaxis": "x",
         "y": [
          2.824547776224263,
          2.149010483784057,
          1.3199770373399815,
          2.258327852298808
         ],
         "yaxis": "y"
        },
        {
         "alignmentgroup": "True",
         "hovertemplate": "Metric=MSE<br>Algorithm=%{x}<br>Percentage=%{y}<extra></extra>",
         "legendgroup": "MSE",
         "marker": {
          "color": "#FF97FF",
          "pattern": {
           "shape": ""
          }
         },
         "name": "MSE",
         "offsetgroup": "MSE",
         "orientation": "v",
         "showlegend": true,
         "textposition": "auto",
         "type": "bar",
         "x": [
          "Logistic Regression",
          "K Nearest Neighbors",
          "Decision Tree",
          "Random Forest"
         ],
         "xaxis": "x",
         "y": [
          1.4481803190651845,
          1.3027988541624527,
          1.3196283904732777,
          1.118781260356374
         ],
         "yaxis": "y"
        },
        {
         "alignmentgroup": "True",
         "hovertemplate": "Metric=RMSE<br>Algorithm=%{x}<br>Percentage=%{y}<extra></extra>",
         "legendgroup": "RMSE",
         "marker": {
          "color": "#FECB52",
          "pattern": {
           "shape": ""
          }
         },
         "name": "RMSE",
         "offsetgroup": "RMSE",
         "orientation": "v",
         "showlegend": true,
         "textposition": "auto",
         "type": "bar",
         "x": [
          "Logistic Regression",
          "K Nearest Neighbors",
          "Decision Tree",
          "Random Forest"
         ],
         "xaxis": "x",
         "y": [
          5.319272525982539,
          4.70913578755445,
          3.893201419937892,
          4.511992362203964
         ],
         "yaxis": "y"
        }
       ],
       "layout": {
        "barmode": "group",
        "legend": {
         "title": {
          "text": "Metric"
         },
         "tracegroupgap": 0
        },
        "template": {
         "data": {
          "bar": [
           {
            "error_x": {
             "color": "#2a3f5f"
            },
            "error_y": {
             "color": "#2a3f5f"
            },
            "marker": {
             "line": {
              "color": "#E5ECF6",
              "width": 0.5
             },
             "pattern": {
              "fillmode": "overlay",
              "size": 10,
              "solidity": 0.2
             }
            },
            "type": "bar"
           }
          ],
          "barpolar": [
           {
            "marker": {
             "line": {
              "color": "#E5ECF6",
              "width": 0.5
             },
             "pattern": {
              "fillmode": "overlay",
              "size": 10,
              "solidity": 0.2
             }
            },
            "type": "barpolar"
           }
          ],
          "carpet": [
           {
            "aaxis": {
             "endlinecolor": "#2a3f5f",
             "gridcolor": "white",
             "linecolor": "white",
             "minorgridcolor": "white",
             "startlinecolor": "#2a3f5f"
            },
            "baxis": {
             "endlinecolor": "#2a3f5f",
             "gridcolor": "white",
             "linecolor": "white",
             "minorgridcolor": "white",
             "startlinecolor": "#2a3f5f"
            },
            "type": "carpet"
           }
          ],
          "choropleth": [
           {
            "colorbar": {
             "outlinewidth": 0,
             "ticks": ""
            },
            "type": "choropleth"
           }
          ],
          "contour": [
           {
            "colorbar": {
             "outlinewidth": 0,
             "ticks": ""
            },
            "colorscale": [
             [
              0,
              "#0d0887"
             ],
             [
              0.1111111111111111,
              "#46039f"
             ],
             [
              0.2222222222222222,
              "#7201a8"
             ],
             [
              0.3333333333333333,
              "#9c179e"
             ],
             [
              0.4444444444444444,
              "#bd3786"
             ],
             [
              0.5555555555555556,
              "#d8576b"
             ],
             [
              0.6666666666666666,
              "#ed7953"
             ],
             [
              0.7777777777777778,
              "#fb9f3a"
             ],
             [
              0.8888888888888888,
              "#fdca26"
             ],
             [
              1,
              "#f0f921"
             ]
            ],
            "type": "contour"
           }
          ],
          "contourcarpet": [
           {
            "colorbar": {
             "outlinewidth": 0,
             "ticks": ""
            },
            "type": "contourcarpet"
           }
          ],
          "heatmap": [
           {
            "colorbar": {
             "outlinewidth": 0,
             "ticks": ""
            },
            "colorscale": [
             [
              0,
              "#0d0887"
             ],
             [
              0.1111111111111111,
              "#46039f"
             ],
             [
              0.2222222222222222,
              "#7201a8"
             ],
             [
              0.3333333333333333,
              "#9c179e"
             ],
             [
              0.4444444444444444,
              "#bd3786"
             ],
             [
              0.5555555555555556,
              "#d8576b"
             ],
             [
              0.6666666666666666,
              "#ed7953"
             ],
             [
              0.7777777777777778,
              "#fb9f3a"
             ],
             [
              0.8888888888888888,
              "#fdca26"
             ],
             [
              1,
              "#f0f921"
             ]
            ],
            "type": "heatmap"
           }
          ],
          "heatmapgl": [
           {
            "colorbar": {
             "outlinewidth": 0,
             "ticks": ""
            },
            "colorscale": [
             [
              0,
              "#0d0887"
             ],
             [
              0.1111111111111111,
              "#46039f"
             ],
             [
              0.2222222222222222,
              "#7201a8"
             ],
             [
              0.3333333333333333,
              "#9c179e"
             ],
             [
              0.4444444444444444,
              "#bd3786"
             ],
             [
              0.5555555555555556,
              "#d8576b"
             ],
             [
              0.6666666666666666,
              "#ed7953"
             ],
             [
              0.7777777777777778,
              "#fb9f3a"
             ],
             [
              0.8888888888888888,
              "#fdca26"
             ],
             [
              1,
              "#f0f921"
             ]
            ],
            "type": "heatmapgl"
           }
          ],
          "histogram": [
           {
            "marker": {
             "pattern": {
              "fillmode": "overlay",
              "size": 10,
              "solidity": 0.2
             }
            },
            "type": "histogram"
           }
          ],
          "histogram2d": [
           {
            "colorbar": {
             "outlinewidth": 0,
             "ticks": ""
            },
            "colorscale": [
             [
              0,
              "#0d0887"
             ],
             [
              0.1111111111111111,
              "#46039f"
             ],
             [
              0.2222222222222222,
              "#7201a8"
             ],
             [
              0.3333333333333333,
              "#9c179e"
             ],
             [
              0.4444444444444444,
              "#bd3786"
             ],
             [
              0.5555555555555556,
              "#d8576b"
             ],
             [
              0.6666666666666666,
              "#ed7953"
             ],
             [
              0.7777777777777778,
              "#fb9f3a"
             ],
             [
              0.8888888888888888,
              "#fdca26"
             ],
             [
              1,
              "#f0f921"
             ]
            ],
            "type": "histogram2d"
           }
          ],
          "histogram2dcontour": [
           {
            "colorbar": {
             "outlinewidth": 0,
             "ticks": ""
            },
            "colorscale": [
             [
              0,
              "#0d0887"
             ],
             [
              0.1111111111111111,
              "#46039f"
             ],
             [
              0.2222222222222222,
              "#7201a8"
             ],
             [
              0.3333333333333333,
              "#9c179e"
             ],
             [
              0.4444444444444444,
              "#bd3786"
             ],
             [
              0.5555555555555556,
              "#d8576b"
             ],
             [
              0.6666666666666666,
              "#ed7953"
             ],
             [
              0.7777777777777778,
              "#fb9f3a"
             ],
             [
              0.8888888888888888,
              "#fdca26"
             ],
             [
              1,
              "#f0f921"
             ]
            ],
            "type": "histogram2dcontour"
           }
          ],
          "mesh3d": [
           {
            "colorbar": {
             "outlinewidth": 0,
             "ticks": ""
            },
            "type": "mesh3d"
           }
          ],
          "parcoords": [
           {
            "line": {
             "colorbar": {
              "outlinewidth": 0,
              "ticks": ""
             }
            },
            "type": "parcoords"
           }
          ],
          "pie": [
           {
            "automargin": true,
            "type": "pie"
           }
          ],
          "scatter": [
           {
            "fillpattern": {
             "fillmode": "overlay",
             "size": 10,
             "solidity": 0.2
            },
            "type": "scatter"
           }
          ],
          "scatter3d": [
           {
            "line": {
             "colorbar": {
              "outlinewidth": 0,
              "ticks": ""
             }
            },
            "marker": {
             "colorbar": {
              "outlinewidth": 0,
              "ticks": ""
             }
            },
            "type": "scatter3d"
           }
          ],
          "scattercarpet": [
           {
            "marker": {
             "colorbar": {
              "outlinewidth": 0,
              "ticks": ""
             }
            },
            "type": "scattercarpet"
           }
          ],
          "scattergeo": [
           {
            "marker": {
             "colorbar": {
              "outlinewidth": 0,
              "ticks": ""
             }
            },
            "type": "scattergeo"
           }
          ],
          "scattergl": [
           {
            "marker": {
             "colorbar": {
              "outlinewidth": 0,
              "ticks": ""
             }
            },
            "type": "scattergl"
           }
          ],
          "scattermapbox": [
           {
            "marker": {
             "colorbar": {
              "outlinewidth": 0,
              "ticks": ""
             }
            },
            "type": "scattermapbox"
           }
          ],
          "scatterpolar": [
           {
            "marker": {
             "colorbar": {
              "outlinewidth": 0,
              "ticks": ""
             }
            },
            "type": "scatterpolar"
           }
          ],
          "scatterpolargl": [
           {
            "marker": {
             "colorbar": {
              "outlinewidth": 0,
              "ticks": ""
             }
            },
            "type": "scatterpolargl"
           }
          ],
          "scatterternary": [
           {
            "marker": {
             "colorbar": {
              "outlinewidth": 0,
              "ticks": ""
             }
            },
            "type": "scatterternary"
           }
          ],
          "surface": [
           {
            "colorbar": {
             "outlinewidth": 0,
             "ticks": ""
            },
            "colorscale": [
             [
              0,
              "#0d0887"
             ],
             [
              0.1111111111111111,
              "#46039f"
             ],
             [
              0.2222222222222222,
              "#7201a8"
             ],
             [
              0.3333333333333333,
              "#9c179e"
             ],
             [
              0.4444444444444444,
              "#bd3786"
             ],
             [
              0.5555555555555556,
              "#d8576b"
             ],
             [
              0.6666666666666666,
              "#ed7953"
             ],
             [
              0.7777777777777778,
              "#fb9f3a"
             ],
             [
              0.8888888888888888,
              "#fdca26"
             ],
             [
              1,
              "#f0f921"
             ]
            ],
            "type": "surface"
           }
          ],
          "table": [
           {
            "cells": {
             "fill": {
              "color": "#EBF0F8"
             },
             "line": {
              "color": "white"
             }
            },
            "header": {
             "fill": {
              "color": "#C8D4E3"
             },
             "line": {
              "color": "white"
             }
            },
            "type": "table"
           }
          ]
         },
         "layout": {
          "annotationdefaults": {
           "arrowcolor": "#2a3f5f",
           "arrowhead": 0,
           "arrowwidth": 1
          },
          "autotypenumbers": "strict",
          "coloraxis": {
           "colorbar": {
            "outlinewidth": 0,
            "ticks": ""
           }
          },
          "colorscale": {
           "diverging": [
            [
             0,
             "#8e0152"
            ],
            [
             0.1,
             "#c51b7d"
            ],
            [
             0.2,
             "#de77ae"
            ],
            [
             0.3,
             "#f1b6da"
            ],
            [
             0.4,
             "#fde0ef"
            ],
            [
             0.5,
             "#f7f7f7"
            ],
            [
             0.6,
             "#e6f5d0"
            ],
            [
             0.7,
             "#b8e186"
            ],
            [
             0.8,
             "#7fbc41"
            ],
            [
             0.9,
             "#4d9221"
            ],
            [
             1,
             "#276419"
            ]
           ],
           "sequential": [
            [
             0,
             "#0d0887"
            ],
            [
             0.1111111111111111,
             "#46039f"
            ],
            [
             0.2222222222222222,
             "#7201a8"
            ],
            [
             0.3333333333333333,
             "#9c179e"
            ],
            [
             0.4444444444444444,
             "#bd3786"
            ],
            [
             0.5555555555555556,
             "#d8576b"
            ],
            [
             0.6666666666666666,
             "#ed7953"
            ],
            [
             0.7777777777777778,
             "#fb9f3a"
            ],
            [
             0.8888888888888888,
             "#fdca26"
            ],
            [
             1,
             "#f0f921"
            ]
           ],
           "sequentialminus": [
            [
             0,
             "#0d0887"
            ],
            [
             0.1111111111111111,
             "#46039f"
            ],
            [
             0.2222222222222222,
             "#7201a8"
            ],
            [
             0.3333333333333333,
             "#9c179e"
            ],
            [
             0.4444444444444444,
             "#bd3786"
            ],
            [
             0.5555555555555556,
             "#d8576b"
            ],
            [
             0.6666666666666666,
             "#ed7953"
            ],
            [
             0.7777777777777778,
             "#fb9f3a"
            ],
            [
             0.8888888888888888,
             "#fdca26"
            ],
            [
             1,
             "#f0f921"
            ]
           ]
          },
          "colorway": [
           "#636efa",
           "#EF553B",
           "#00cc96",
           "#ab63fa",
           "#FFA15A",
           "#19d3f3",
           "#FF6692",
           "#B6E880",
           "#FF97FF",
           "#FECB52"
          ],
          "font": {
           "color": "#2a3f5f"
          },
          "geo": {
           "bgcolor": "white",
           "lakecolor": "white",
           "landcolor": "#E5ECF6",
           "showlakes": true,
           "showland": true,
           "subunitcolor": "white"
          },
          "hoverlabel": {
           "align": "left"
          },
          "hovermode": "closest",
          "mapbox": {
           "style": "light"
          },
          "paper_bgcolor": "white",
          "plot_bgcolor": "#E5ECF6",
          "polar": {
           "angularaxis": {
            "gridcolor": "white",
            "linecolor": "white",
            "ticks": ""
           },
           "bgcolor": "#E5ECF6",
           "radialaxis": {
            "gridcolor": "white",
            "linecolor": "white",
            "ticks": ""
           }
          },
          "scene": {
           "xaxis": {
            "backgroundcolor": "#E5ECF6",
            "gridcolor": "white",
            "gridwidth": 2,
            "linecolor": "white",
            "showbackground": true,
            "ticks": "",
            "zerolinecolor": "white"
           },
           "yaxis": {
            "backgroundcolor": "#E5ECF6",
            "gridcolor": "white",
            "gridwidth": 2,
            "linecolor": "white",
            "showbackground": true,
            "ticks": "",
            "zerolinecolor": "white"
           },
           "zaxis": {
            "backgroundcolor": "#E5ECF6",
            "gridcolor": "white",
            "gridwidth": 2,
            "linecolor": "white",
            "showbackground": true,
            "ticks": "",
            "zerolinecolor": "white"
           }
          },
          "shapedefaults": {
           "line": {
            "color": "#2a3f5f"
           }
          },
          "ternary": {
           "aaxis": {
            "gridcolor": "white",
            "linecolor": "white",
            "ticks": ""
           },
           "baxis": {
            "gridcolor": "white",
            "linecolor": "white",
            "ticks": ""
           },
           "bgcolor": "#E5ECF6",
           "caxis": {
            "gridcolor": "white",
            "linecolor": "white",
            "ticks": ""
           }
          },
          "title": {
           "x": 0.05
          },
          "xaxis": {
           "automargin": true,
           "gridcolor": "white",
           "linecolor": "white",
           "ticks": "",
           "title": {
            "standoff": 15
           },
           "zerolinecolor": "white",
           "zerolinewidth": 2
          },
          "yaxis": {
           "automargin": true,
           "gridcolor": "white",
           "linecolor": "white",
           "ticks": "",
           "title": {
            "standoff": 15
           },
           "zerolinecolor": "white",
           "zerolinewidth": 2
          }
         }
        },
        "title": {
         "text": "Comparison of Algorithm Performance on Testing Data"
        },
        "xaxis": {
         "anchor": "y",
         "domain": [
          0,
          1
         ],
         "title": {
          "text": "Algorithm"
         }
        },
        "yaxis": {
         "anchor": "x",
         "domain": [
          0,
          1
         ],
         "title": {
          "text": "Percentage"
         }
        }
       }
      }
     },
     "metadata": {},
     "output_type": "display_data"
    }
   ],
   "source": [
    "# Using Plotly\n",
    "\n",
    "# Normalize the results_df to percentages\n",
    "results_df_percentage = results_df.div(results_df.sum(axis=1), axis=0) * 100\n",
    "\n",
    "# Create a bar plot using Plotly\n",
    "fig = px.bar(results_df_percentage.reset_index(), \n",
    "             x='Algorithm', \n",
    "             y=['AUC', 'Accuracy', 'Recall', 'Precision', 'Specificity', 'F1 Score', 'R-squared', 'MAE', 'MSE', 'RMSE'],\n",
    "             title='Comparison of Algorithm Performance on Testing Data',\n",
    "             labels={'value': 'Percentage', 'variable': 'Metric'},\n",
    "             barmode='group')\n",
    "\n",
    "# Show the plot\n",
    "fig.show()\n"
   ]
  },
  {
   "cell_type": "markdown",
   "metadata": {},
   "source": [
    "### Feature Importance"
   ]
  },
  {
   "cell_type": "code",
   "execution_count": 46,
   "metadata": {},
   "outputs": [],
   "source": [
    "def plot_feature_importance(model, feature_names, algorithm_name):\n",
    "    if not hasattr(model, 'feature_importances_'):\n",
    "        raise ValueError(\"The specified model does not support feature importances.\")\n",
    "\n",
    "    # Get feature importances from the model\n",
    "    importances = model.feature_importances_\n",
    "\n",
    "    # Create a DataFrame to store feature names and importances\n",
    "    feature_importance_df = pd.DataFrame({'Feature': feature_names, 'Importance': importances})\n",
    "\n",
    "    # Sort the DataFrame by importance in descending order\n",
    "    feature_importance_df = feature_importance_df.sort_values(by='Importance', ascending=False)\n",
    "\n",
    "    # Plot the feature importances\n",
    "    plt.figure(figsize=(20, 10))\n",
    "    sns.barplot(x='Importance', y='Feature', data=feature_importance_df, palette='viridis')\n",
    "    plt.title(f'Feature Importance for {algorithm_name}', fontsize=20, fontweight='bold')\n",
    "    plt.show()\n",
    "    "
   ]
  },
  {
   "cell_type": "code",
   "execution_count": 47,
   "metadata": {},
   "outputs": [],
   "source": [
    "def plot_feature_importance(model, feature_names, algorithm_name, palette, edgecolor):\n",
    "    if not hasattr(model, 'feature_importances_'):\n",
    "        raise ValueError(\"The specified model does not support feature importances.\")\n",
    "\n",
    "    # Get feature importances from the model\n",
    "    importances = model.feature_importances_\n",
    "\n",
    "    # Create a DataFrame to store feature names and importances\n",
    "    feature_importance_df = pd.DataFrame({'Feature': feature_names, 'Importance': importances})\n",
    "\n",
    "    # Sort the DataFrame by importance in descending order\n",
    "    feature_importance_df = feature_importance_df.sort_values(by='Importance', ascending=False)\n",
    "\n",
    "    # Plot the feature importances\n",
    "    plt.figure(figsize=(20, 10))\n",
    "    sns.barplot(x='Feature', y='Importance', data=feature_importance_df, palette=palette, edgecolor=edgecolor)\n",
    "\n",
    "    # Add percentage labels above each bar\n",
    "    for i, val in enumerate(feature_importance_df['Importance']):\n",
    "        plt.text(i, val + 0.005, f'{val*100:.2f}%', ha='center', fontsize=10, fontweight='bold', rotation='vertical')\n",
    "\n",
    "    plt.title(f'Feature Importance for {algorithm_name}', fontsize=20, fontweight='bold')\n",
    "    plt.xlabel('Feature', fontsize=12, fontweight='bold')\n",
    "    plt.ylabel('Importance', fontsize=12, fontweight='bold')\n",
    "    plt.xticks(rotation=90, ha='right')\n",
    "    plt.tight_layout()\n",
    "    plt.show()\n",
    "    "
   ]
  },
  {
   "cell_type": "code",
   "execution_count": 48,
   "metadata": {},
   "outputs": [
    {
     "data": {
      "image/png": "[encoded data removed]",
      "text/plain": [
       "<Figure size 2000x1000 with 1 Axes>"
      ]
     },
     "metadata": {},
     "output_type": "display_data"
    }
   ],
   "source": [
    "# Decision tree\n",
    "feature_names = X_train.columns\n",
    "plot_feature_importance(dt_model, feature_names, 'Decision tree', palette='Accent', edgecolor='black')\n"
   ]
  },
  {
   "cell_type": "code",
   "execution_count": 49,
   "metadata": {},
   "outputs": [
    {
     "data": {
      "image/png": "[encoded data removed]",
      "text/plain": [
       "<Figure size 2000x1000 with 1 Axes>"
      ]
     },
     "metadata": {},
     "output_type": "display_data"
    }
   ],
   "source": [
    "# Random Forest\n",
    "feature_names = X_train.columns\n",
    "plot_feature_importance(rf_model, feature_names, 'Random Forest', palette='Accent', edgecolor='black')\n"
   ]
  },
  {
   "cell_type": "code",
   "execution_count": null,
   "metadata": {},
   "outputs": [],
   "source": []
  }
 ],
 "metadata": {
  "kernelspec": {
   "display_name": "venv",
   "language": "python",
   "name": "python3"
  },
  "language_info": {
   "codemirror_mode": {
    "name": "ipython",
    "version": 3
   },
   "file_extension": ".py",
   "mimetype": "text/x-python",
   "name": "python",
   "nbconvert_exporter": "python",
   "pygments_lexer": "ipython3",
   "version": "3.11.6"
  }
 },
 "nbformat": 4,
 "nbformat_minor": 2
}
